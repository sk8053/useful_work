{
  "nbformat": 4,
  "nbformat_minor": 0,
  "metadata": {
    "kernelspec": {
      "display_name": "Python 3",
      "language": "python",
      "name": "python3"
    },
    "language_info": {
      "codemirror_mode": {
        "name": "ipython",
        "version": 3
      },
      "file_extension": ".py",
      "mimetype": "text/x-python",
      "name": "python",
      "nbconvert_exporter": "python",
      "pygments_lexer": "ipython3",
      "version": "3.8.3"
    },
    "colab": {
      "name": "Q2_sk8053 (1).ipynb",
      "provenance": [],
      "collapsed_sections": [],
      "toc_visible": true
    },
    "accelerator": "GPU",
    "widgets": {
      "application/vnd.jupyter.widget-state+json": {
        "7daa14ef98cd4dbba090c632734bad86": {
          "model_module": "@jupyter-widgets/controls",
          "model_name": "HBoxModel",
          "state": {
            "_view_name": "HBoxView",
            "_dom_classes": [],
            "_model_name": "HBoxModel",
            "_view_module": "@jupyter-widgets/controls",
            "_model_module_version": "1.5.0",
            "_view_count": null,
            "_view_module_version": "1.5.0",
            "box_style": "",
            "layout": "IPY_MODEL_14f74b6770df4f98b40c51fe82642aa2",
            "_model_module": "@jupyter-widgets/controls",
            "children": [
              "IPY_MODEL_ccd2990b982e4e26b12799aeef2a523d",
              "IPY_MODEL_ab88713c1dd14dfe84cd22258a3b41ec"
            ]
          }
        },
        "14f74b6770df4f98b40c51fe82642aa2": {
          "model_module": "@jupyter-widgets/base",
          "model_name": "LayoutModel",
          "state": {
            "_view_name": "LayoutView",
            "grid_template_rows": null,
            "right": null,
            "justify_content": null,
            "_view_module": "@jupyter-widgets/base",
            "overflow": null,
            "_model_module_version": "1.2.0",
            "_view_count": null,
            "flex_flow": null,
            "width": null,
            "min_width": null,
            "border": null,
            "align_items": null,
            "bottom": null,
            "_model_module": "@jupyter-widgets/base",
            "top": null,
            "grid_column": null,
            "overflow_y": null,
            "overflow_x": null,
            "grid_auto_flow": null,
            "grid_area": null,
            "grid_template_columns": null,
            "flex": null,
            "_model_name": "LayoutModel",
            "justify_items": null,
            "grid_row": null,
            "max_height": null,
            "align_content": null,
            "visibility": null,
            "align_self": null,
            "height": null,
            "min_height": null,
            "padding": null,
            "grid_auto_rows": null,
            "grid_gap": null,
            "max_width": null,
            "order": null,
            "_view_module_version": "1.2.0",
            "grid_template_areas": null,
            "object_position": null,
            "object_fit": null,
            "grid_auto_columns": null,
            "margin": null,
            "display": null,
            "left": null
          }
        },
        "ccd2990b982e4e26b12799aeef2a523d": {
          "model_module": "@jupyter-widgets/controls",
          "model_name": "FloatProgressModel",
          "state": {
            "_view_name": "ProgressView",
            "style": "IPY_MODEL_b1576d035d2f4936900e35e429374274",
            "_dom_classes": [],
            "description": "100%",
            "_model_name": "FloatProgressModel",
            "bar_style": "success",
            "max": 50,
            "_view_module": "@jupyter-widgets/controls",
            "_model_module_version": "1.5.0",
            "value": 50,
            "_view_count": null,
            "_view_module_version": "1.5.0",
            "orientation": "horizontal",
            "min": 0,
            "description_tooltip": null,
            "_model_module": "@jupyter-widgets/controls",
            "layout": "IPY_MODEL_9e35001c0e6a4d908c911491b21ac0ea"
          }
        },
        "ab88713c1dd14dfe84cd22258a3b41ec": {
          "model_module": "@jupyter-widgets/controls",
          "model_name": "HTMLModel",
          "state": {
            "_view_name": "HTMLView",
            "style": "IPY_MODEL_2519edf6a4ff417ba79851153913ad3a",
            "_dom_classes": [],
            "description": "",
            "_model_name": "HTMLModel",
            "placeholder": "​",
            "_view_module": "@jupyter-widgets/controls",
            "_model_module_version": "1.5.0",
            "value": " 50/50 [25:11&lt;00:00, 30.22s/it]",
            "_view_count": null,
            "_view_module_version": "1.5.0",
            "description_tooltip": null,
            "_model_module": "@jupyter-widgets/controls",
            "layout": "IPY_MODEL_255de126e77c472c96a20c9337010455"
          }
        },
        "b1576d035d2f4936900e35e429374274": {
          "model_module": "@jupyter-widgets/controls",
          "model_name": "ProgressStyleModel",
          "state": {
            "_view_name": "StyleView",
            "_model_name": "ProgressStyleModel",
            "description_width": "initial",
            "_view_module": "@jupyter-widgets/base",
            "_model_module_version": "1.5.0",
            "_view_count": null,
            "_view_module_version": "1.2.0",
            "bar_color": null,
            "_model_module": "@jupyter-widgets/controls"
          }
        },
        "9e35001c0e6a4d908c911491b21ac0ea": {
          "model_module": "@jupyter-widgets/base",
          "model_name": "LayoutModel",
          "state": {
            "_view_name": "LayoutView",
            "grid_template_rows": null,
            "right": null,
            "justify_content": null,
            "_view_module": "@jupyter-widgets/base",
            "overflow": null,
            "_model_module_version": "1.2.0",
            "_view_count": null,
            "flex_flow": null,
            "width": null,
            "min_width": null,
            "border": null,
            "align_items": null,
            "bottom": null,
            "_model_module": "@jupyter-widgets/base",
            "top": null,
            "grid_column": null,
            "overflow_y": null,
            "overflow_x": null,
            "grid_auto_flow": null,
            "grid_area": null,
            "grid_template_columns": null,
            "flex": null,
            "_model_name": "LayoutModel",
            "justify_items": null,
            "grid_row": null,
            "max_height": null,
            "align_content": null,
            "visibility": null,
            "align_self": null,
            "height": null,
            "min_height": null,
            "padding": null,
            "grid_auto_rows": null,
            "grid_gap": null,
            "max_width": null,
            "order": null,
            "_view_module_version": "1.2.0",
            "grid_template_areas": null,
            "object_position": null,
            "object_fit": null,
            "grid_auto_columns": null,
            "margin": null,
            "display": null,
            "left": null
          }
        },
        "2519edf6a4ff417ba79851153913ad3a": {
          "model_module": "@jupyter-widgets/controls",
          "model_name": "DescriptionStyleModel",
          "state": {
            "_view_name": "StyleView",
            "_model_name": "DescriptionStyleModel",
            "description_width": "",
            "_view_module": "@jupyter-widgets/base",
            "_model_module_version": "1.5.0",
            "_view_count": null,
            "_view_module_version": "1.2.0",
            "_model_module": "@jupyter-widgets/controls"
          }
        },
        "255de126e77c472c96a20c9337010455": {
          "model_module": "@jupyter-widgets/base",
          "model_name": "LayoutModel",
          "state": {
            "_view_name": "LayoutView",
            "grid_template_rows": null,
            "right": null,
            "justify_content": null,
            "_view_module": "@jupyter-widgets/base",
            "overflow": null,
            "_model_module_version": "1.2.0",
            "_view_count": null,
            "flex_flow": null,
            "width": null,
            "min_width": null,
            "border": null,
            "align_items": null,
            "bottom": null,
            "_model_module": "@jupyter-widgets/base",
            "top": null,
            "grid_column": null,
            "overflow_y": null,
            "overflow_x": null,
            "grid_auto_flow": null,
            "grid_area": null,
            "grid_template_columns": null,
            "flex": null,
            "_model_name": "LayoutModel",
            "justify_items": null,
            "grid_row": null,
            "max_height": null,
            "align_content": null,
            "visibility": null,
            "align_self": null,
            "height": null,
            "min_height": null,
            "padding": null,
            "grid_auto_rows": null,
            "grid_gap": null,
            "max_width": null,
            "order": null,
            "_view_module_version": "1.2.0",
            "grid_template_areas": null,
            "object_position": null,
            "object_fit": null,
            "grid_auto_columns": null,
            "margin": null,
            "display": null,
            "left": null
          }
        },
        "ca13285c384244b3a93429b5a346ec32": {
          "model_module": "@jupyter-widgets/controls",
          "model_name": "HBoxModel",
          "state": {
            "_view_name": "HBoxView",
            "_dom_classes": [],
            "_model_name": "HBoxModel",
            "_view_module": "@jupyter-widgets/controls",
            "_model_module_version": "1.5.0",
            "_view_count": null,
            "_view_module_version": "1.5.0",
            "box_style": "",
            "layout": "IPY_MODEL_3efa2fbeae0b4e23ba80e8c856efe75f",
            "_model_module": "@jupyter-widgets/controls",
            "children": [
              "IPY_MODEL_f4362b58293f4eea9143769eaf1173c9",
              "IPY_MODEL_b653e2acaed54f6cb5024117501c3239"
            ]
          }
        },
        "3efa2fbeae0b4e23ba80e8c856efe75f": {
          "model_module": "@jupyter-widgets/base",
          "model_name": "LayoutModel",
          "state": {
            "_view_name": "LayoutView",
            "grid_template_rows": null,
            "right": null,
            "justify_content": null,
            "_view_module": "@jupyter-widgets/base",
            "overflow": null,
            "_model_module_version": "1.2.0",
            "_view_count": null,
            "flex_flow": null,
            "width": null,
            "min_width": null,
            "border": null,
            "align_items": null,
            "bottom": null,
            "_model_module": "@jupyter-widgets/base",
            "top": null,
            "grid_column": null,
            "overflow_y": null,
            "overflow_x": null,
            "grid_auto_flow": null,
            "grid_area": null,
            "grid_template_columns": null,
            "flex": null,
            "_model_name": "LayoutModel",
            "justify_items": null,
            "grid_row": null,
            "max_height": null,
            "align_content": null,
            "visibility": null,
            "align_self": null,
            "height": null,
            "min_height": null,
            "padding": null,
            "grid_auto_rows": null,
            "grid_gap": null,
            "max_width": null,
            "order": null,
            "_view_module_version": "1.2.0",
            "grid_template_areas": null,
            "object_position": null,
            "object_fit": null,
            "grid_auto_columns": null,
            "margin": null,
            "display": null,
            "left": null
          }
        },
        "f4362b58293f4eea9143769eaf1173c9": {
          "model_module": "@jupyter-widgets/controls",
          "model_name": "FloatProgressModel",
          "state": {
            "_view_name": "ProgressView",
            "style": "IPY_MODEL_d7309801fd0449c19466a8969dff2496",
            "_dom_classes": [],
            "description": "100%",
            "_model_name": "FloatProgressModel",
            "bar_style": "success",
            "max": 100,
            "_view_module": "@jupyter-widgets/controls",
            "_model_module_version": "1.5.0",
            "value": 100,
            "_view_count": null,
            "_view_module_version": "1.5.0",
            "orientation": "horizontal",
            "min": 0,
            "description_tooltip": null,
            "_model_module": "@jupyter-widgets/controls",
            "layout": "IPY_MODEL_b1b6e13828b1489985fff6908541ab49"
          }
        },
        "b653e2acaed54f6cb5024117501c3239": {
          "model_module": "@jupyter-widgets/controls",
          "model_name": "HTMLModel",
          "state": {
            "_view_name": "HTMLView",
            "style": "IPY_MODEL_c7a147a7f71c463baaff9c355bc62038",
            "_dom_classes": [],
            "description": "",
            "_model_name": "HTMLModel",
            "placeholder": "​",
            "_view_module": "@jupyter-widgets/controls",
            "_model_module_version": "1.5.0",
            "value": " 100/100 [1:14:28&lt;00:00, 44.69s/it]",
            "_view_count": null,
            "_view_module_version": "1.5.0",
            "description_tooltip": null,
            "_model_module": "@jupyter-widgets/controls",
            "layout": "IPY_MODEL_a094e6f7f03744ac83a90ac6d0ab4504"
          }
        },
        "d7309801fd0449c19466a8969dff2496": {
          "model_module": "@jupyter-widgets/controls",
          "model_name": "ProgressStyleModel",
          "state": {
            "_view_name": "StyleView",
            "_model_name": "ProgressStyleModel",
            "description_width": "initial",
            "_view_module": "@jupyter-widgets/base",
            "_model_module_version": "1.5.0",
            "_view_count": null,
            "_view_module_version": "1.2.0",
            "bar_color": null,
            "_model_module": "@jupyter-widgets/controls"
          }
        },
        "b1b6e13828b1489985fff6908541ab49": {
          "model_module": "@jupyter-widgets/base",
          "model_name": "LayoutModel",
          "state": {
            "_view_name": "LayoutView",
            "grid_template_rows": null,
            "right": null,
            "justify_content": null,
            "_view_module": "@jupyter-widgets/base",
            "overflow": null,
            "_model_module_version": "1.2.0",
            "_view_count": null,
            "flex_flow": null,
            "width": null,
            "min_width": null,
            "border": null,
            "align_items": null,
            "bottom": null,
            "_model_module": "@jupyter-widgets/base",
            "top": null,
            "grid_column": null,
            "overflow_y": null,
            "overflow_x": null,
            "grid_auto_flow": null,
            "grid_area": null,
            "grid_template_columns": null,
            "flex": null,
            "_model_name": "LayoutModel",
            "justify_items": null,
            "grid_row": null,
            "max_height": null,
            "align_content": null,
            "visibility": null,
            "align_self": null,
            "height": null,
            "min_height": null,
            "padding": null,
            "grid_auto_rows": null,
            "grid_gap": null,
            "max_width": null,
            "order": null,
            "_view_module_version": "1.2.0",
            "grid_template_areas": null,
            "object_position": null,
            "object_fit": null,
            "grid_auto_columns": null,
            "margin": null,
            "display": null,
            "left": null
          }
        },
        "c7a147a7f71c463baaff9c355bc62038": {
          "model_module": "@jupyter-widgets/controls",
          "model_name": "DescriptionStyleModel",
          "state": {
            "_view_name": "StyleView",
            "_model_name": "DescriptionStyleModel",
            "description_width": "",
            "_view_module": "@jupyter-widgets/base",
            "_model_module_version": "1.5.0",
            "_view_count": null,
            "_view_module_version": "1.2.0",
            "_model_module": "@jupyter-widgets/controls"
          }
        },
        "a094e6f7f03744ac83a90ac6d0ab4504": {
          "model_module": "@jupyter-widgets/base",
          "model_name": "LayoutModel",
          "state": {
            "_view_name": "LayoutView",
            "grid_template_rows": null,
            "right": null,
            "justify_content": null,
            "_view_module": "@jupyter-widgets/base",
            "overflow": null,
            "_model_module_version": "1.2.0",
            "_view_count": null,
            "flex_flow": null,
            "width": null,
            "min_width": null,
            "border": null,
            "align_items": null,
            "bottom": null,
            "_model_module": "@jupyter-widgets/base",
            "top": null,
            "grid_column": null,
            "overflow_y": null,
            "overflow_x": null,
            "grid_auto_flow": null,
            "grid_area": null,
            "grid_template_columns": null,
            "flex": null,
            "_model_name": "LayoutModel",
            "justify_items": null,
            "grid_row": null,
            "max_height": null,
            "align_content": null,
            "visibility": null,
            "align_self": null,
            "height": null,
            "min_height": null,
            "padding": null,
            "grid_auto_rows": null,
            "grid_gap": null,
            "max_width": null,
            "order": null,
            "_view_module_version": "1.2.0",
            "grid_template_areas": null,
            "object_position": null,
            "object_fit": null,
            "grid_auto_columns": null,
            "margin": null,
            "display": null,
            "left": null
          }
        },
        "83dd88282e734b71b32885738bddd4ca": {
          "model_module": "@jupyter-widgets/controls",
          "model_name": "HBoxModel",
          "state": {
            "_view_name": "HBoxView",
            "_dom_classes": [],
            "_model_name": "HBoxModel",
            "_view_module": "@jupyter-widgets/controls",
            "_model_module_version": "1.5.0",
            "_view_count": null,
            "_view_module_version": "1.5.0",
            "box_style": "",
            "layout": "IPY_MODEL_825dfc8426654d489c11c89375403ac0",
            "_model_module": "@jupyter-widgets/controls",
            "children": [
              "IPY_MODEL_5b059ba2ba924b9fb31cabd3ec715dc5",
              "IPY_MODEL_61d0a92bc17c4e7b905ec7848c956fa3"
            ]
          }
        },
        "825dfc8426654d489c11c89375403ac0": {
          "model_module": "@jupyter-widgets/base",
          "model_name": "LayoutModel",
          "state": {
            "_view_name": "LayoutView",
            "grid_template_rows": null,
            "right": null,
            "justify_content": null,
            "_view_module": "@jupyter-widgets/base",
            "overflow": null,
            "_model_module_version": "1.2.0",
            "_view_count": null,
            "flex_flow": null,
            "width": null,
            "min_width": null,
            "border": null,
            "align_items": null,
            "bottom": null,
            "_model_module": "@jupyter-widgets/base",
            "top": null,
            "grid_column": null,
            "overflow_y": null,
            "overflow_x": null,
            "grid_auto_flow": null,
            "grid_area": null,
            "grid_template_columns": null,
            "flex": null,
            "_model_name": "LayoutModel",
            "justify_items": null,
            "grid_row": null,
            "max_height": null,
            "align_content": null,
            "visibility": null,
            "align_self": null,
            "height": null,
            "min_height": null,
            "padding": null,
            "grid_auto_rows": null,
            "grid_gap": null,
            "max_width": null,
            "order": null,
            "_view_module_version": "1.2.0",
            "grid_template_areas": null,
            "object_position": null,
            "object_fit": null,
            "grid_auto_columns": null,
            "margin": null,
            "display": null,
            "left": null
          }
        },
        "5b059ba2ba924b9fb31cabd3ec715dc5": {
          "model_module": "@jupyter-widgets/controls",
          "model_name": "FloatProgressModel",
          "state": {
            "_view_name": "ProgressView",
            "style": "IPY_MODEL_a75fd8c1b3184dda82f2a396323cf7f4",
            "_dom_classes": [],
            "description": "100%",
            "_model_name": "FloatProgressModel",
            "bar_style": "success",
            "max": 100,
            "_view_module": "@jupyter-widgets/controls",
            "_model_module_version": "1.5.0",
            "value": 100,
            "_view_count": null,
            "_view_module_version": "1.5.0",
            "orientation": "horizontal",
            "min": 0,
            "description_tooltip": null,
            "_model_module": "@jupyter-widgets/controls",
            "layout": "IPY_MODEL_2a20cd8dc4cf4ea28907c7c00271f146"
          }
        },
        "61d0a92bc17c4e7b905ec7848c956fa3": {
          "model_module": "@jupyter-widgets/controls",
          "model_name": "HTMLModel",
          "state": {
            "_view_name": "HTMLView",
            "style": "IPY_MODEL_879b315b6a22492ababa75d2f4d901e6",
            "_dom_classes": [],
            "description": "",
            "_model_name": "HTMLModel",
            "placeholder": "​",
            "_view_module": "@jupyter-widgets/controls",
            "_model_module_version": "1.5.0",
            "value": " 100/100 [43:14&lt;00:00, 25.94s/it]",
            "_view_count": null,
            "_view_module_version": "1.5.0",
            "description_tooltip": null,
            "_model_module": "@jupyter-widgets/controls",
            "layout": "IPY_MODEL_91a085f36810411886561ebed56fcbf6"
          }
        },
        "a75fd8c1b3184dda82f2a396323cf7f4": {
          "model_module": "@jupyter-widgets/controls",
          "model_name": "ProgressStyleModel",
          "state": {
            "_view_name": "StyleView",
            "_model_name": "ProgressStyleModel",
            "description_width": "initial",
            "_view_module": "@jupyter-widgets/base",
            "_model_module_version": "1.5.0",
            "_view_count": null,
            "_view_module_version": "1.2.0",
            "bar_color": null,
            "_model_module": "@jupyter-widgets/controls"
          }
        },
        "2a20cd8dc4cf4ea28907c7c00271f146": {
          "model_module": "@jupyter-widgets/base",
          "model_name": "LayoutModel",
          "state": {
            "_view_name": "LayoutView",
            "grid_template_rows": null,
            "right": null,
            "justify_content": null,
            "_view_module": "@jupyter-widgets/base",
            "overflow": null,
            "_model_module_version": "1.2.0",
            "_view_count": null,
            "flex_flow": null,
            "width": null,
            "min_width": null,
            "border": null,
            "align_items": null,
            "bottom": null,
            "_model_module": "@jupyter-widgets/base",
            "top": null,
            "grid_column": null,
            "overflow_y": null,
            "overflow_x": null,
            "grid_auto_flow": null,
            "grid_area": null,
            "grid_template_columns": null,
            "flex": null,
            "_model_name": "LayoutModel",
            "justify_items": null,
            "grid_row": null,
            "max_height": null,
            "align_content": null,
            "visibility": null,
            "align_self": null,
            "height": null,
            "min_height": null,
            "padding": null,
            "grid_auto_rows": null,
            "grid_gap": null,
            "max_width": null,
            "order": null,
            "_view_module_version": "1.2.0",
            "grid_template_areas": null,
            "object_position": null,
            "object_fit": null,
            "grid_auto_columns": null,
            "margin": null,
            "display": null,
            "left": null
          }
        },
        "879b315b6a22492ababa75d2f4d901e6": {
          "model_module": "@jupyter-widgets/controls",
          "model_name": "DescriptionStyleModel",
          "state": {
            "_view_name": "StyleView",
            "_model_name": "DescriptionStyleModel",
            "description_width": "",
            "_view_module": "@jupyter-widgets/base",
            "_model_module_version": "1.5.0",
            "_view_count": null,
            "_view_module_version": "1.2.0",
            "_model_module": "@jupyter-widgets/controls"
          }
        },
        "91a085f36810411886561ebed56fcbf6": {
          "model_module": "@jupyter-widgets/base",
          "model_name": "LayoutModel",
          "state": {
            "_view_name": "LayoutView",
            "grid_template_rows": null,
            "right": null,
            "justify_content": null,
            "_view_module": "@jupyter-widgets/base",
            "overflow": null,
            "_model_module_version": "1.2.0",
            "_view_count": null,
            "flex_flow": null,
            "width": null,
            "min_width": null,
            "border": null,
            "align_items": null,
            "bottom": null,
            "_model_module": "@jupyter-widgets/base",
            "top": null,
            "grid_column": null,
            "overflow_y": null,
            "overflow_x": null,
            "grid_auto_flow": null,
            "grid_area": null,
            "grid_template_columns": null,
            "flex": null,
            "_model_name": "LayoutModel",
            "justify_items": null,
            "grid_row": null,
            "max_height": null,
            "align_content": null,
            "visibility": null,
            "align_self": null,
            "height": null,
            "min_height": null,
            "padding": null,
            "grid_auto_rows": null,
            "grid_gap": null,
            "max_width": null,
            "order": null,
            "_view_module_version": "1.2.0",
            "grid_template_areas": null,
            "object_position": null,
            "object_fit": null,
            "grid_auto_columns": null,
            "margin": null,
            "display": null,
            "left": null
          }
        },
        "9803c727684542cfa512a1f8fc9e7891": {
          "model_module": "@jupyter-widgets/controls",
          "model_name": "HBoxModel",
          "state": {
            "_view_name": "HBoxView",
            "_dom_classes": [],
            "_model_name": "HBoxModel",
            "_view_module": "@jupyter-widgets/controls",
            "_model_module_version": "1.5.0",
            "_view_count": null,
            "_view_module_version": "1.5.0",
            "box_style": "",
            "layout": "IPY_MODEL_f5b87e659e38421c93ab4a84752281e0",
            "_model_module": "@jupyter-widgets/controls",
            "children": [
              "IPY_MODEL_e27c2223651246e4b1b428331d5019f3",
              "IPY_MODEL_9e5328713f294c8e84038257f7ab0187"
            ]
          }
        },
        "f5b87e659e38421c93ab4a84752281e0": {
          "model_module": "@jupyter-widgets/base",
          "model_name": "LayoutModel",
          "state": {
            "_view_name": "LayoutView",
            "grid_template_rows": null,
            "right": null,
            "justify_content": null,
            "_view_module": "@jupyter-widgets/base",
            "overflow": null,
            "_model_module_version": "1.2.0",
            "_view_count": null,
            "flex_flow": null,
            "width": null,
            "min_width": null,
            "border": null,
            "align_items": null,
            "bottom": null,
            "_model_module": "@jupyter-widgets/base",
            "top": null,
            "grid_column": null,
            "overflow_y": null,
            "overflow_x": null,
            "grid_auto_flow": null,
            "grid_area": null,
            "grid_template_columns": null,
            "flex": null,
            "_model_name": "LayoutModel",
            "justify_items": null,
            "grid_row": null,
            "max_height": null,
            "align_content": null,
            "visibility": null,
            "align_self": null,
            "height": null,
            "min_height": null,
            "padding": null,
            "grid_auto_rows": null,
            "grid_gap": null,
            "max_width": null,
            "order": null,
            "_view_module_version": "1.2.0",
            "grid_template_areas": null,
            "object_position": null,
            "object_fit": null,
            "grid_auto_columns": null,
            "margin": null,
            "display": null,
            "left": null
          }
        },
        "e27c2223651246e4b1b428331d5019f3": {
          "model_module": "@jupyter-widgets/controls",
          "model_name": "FloatProgressModel",
          "state": {
            "_view_name": "ProgressView",
            "style": "IPY_MODEL_96242f39985f40c3a2a67ee493b6cbd2",
            "_dom_classes": [],
            "description": "100%",
            "_model_name": "FloatProgressModel",
            "bar_style": "success",
            "max": 79,
            "_view_module": "@jupyter-widgets/controls",
            "_model_module_version": "1.5.0",
            "value": 79,
            "_view_count": null,
            "_view_module_version": "1.5.0",
            "orientation": "horizontal",
            "min": 0,
            "description_tooltip": null,
            "_model_module": "@jupyter-widgets/controls",
            "layout": "IPY_MODEL_fa82ca94b82e4410884bc36047eda47b"
          }
        },
        "9e5328713f294c8e84038257f7ab0187": {
          "model_module": "@jupyter-widgets/controls",
          "model_name": "HTMLModel",
          "state": {
            "_view_name": "HTMLView",
            "style": "IPY_MODEL_55702a29c6544f3b964611197e05d04e",
            "_dom_classes": [],
            "description": "",
            "_model_name": "HTMLModel",
            "placeholder": "​",
            "_view_module": "@jupyter-widgets/controls",
            "_model_module_version": "1.5.0",
            "value": " 79/79 [07:26&lt;00:00,  5.65s/it]",
            "_view_count": null,
            "_view_module_version": "1.5.0",
            "description_tooltip": null,
            "_model_module": "@jupyter-widgets/controls",
            "layout": "IPY_MODEL_aff788ea687f4ff3b9e7b1dc3c56c0f4"
          }
        },
        "96242f39985f40c3a2a67ee493b6cbd2": {
          "model_module": "@jupyter-widgets/controls",
          "model_name": "ProgressStyleModel",
          "state": {
            "_view_name": "StyleView",
            "_model_name": "ProgressStyleModel",
            "description_width": "initial",
            "_view_module": "@jupyter-widgets/base",
            "_model_module_version": "1.5.0",
            "_view_count": null,
            "_view_module_version": "1.2.0",
            "bar_color": null,
            "_model_module": "@jupyter-widgets/controls"
          }
        },
        "fa82ca94b82e4410884bc36047eda47b": {
          "model_module": "@jupyter-widgets/base",
          "model_name": "LayoutModel",
          "state": {
            "_view_name": "LayoutView",
            "grid_template_rows": null,
            "right": null,
            "justify_content": null,
            "_view_module": "@jupyter-widgets/base",
            "overflow": null,
            "_model_module_version": "1.2.0",
            "_view_count": null,
            "flex_flow": null,
            "width": null,
            "min_width": null,
            "border": null,
            "align_items": null,
            "bottom": null,
            "_model_module": "@jupyter-widgets/base",
            "top": null,
            "grid_column": null,
            "overflow_y": null,
            "overflow_x": null,
            "grid_auto_flow": null,
            "grid_area": null,
            "grid_template_columns": null,
            "flex": null,
            "_model_name": "LayoutModel",
            "justify_items": null,
            "grid_row": null,
            "max_height": null,
            "align_content": null,
            "visibility": null,
            "align_self": null,
            "height": null,
            "min_height": null,
            "padding": null,
            "grid_auto_rows": null,
            "grid_gap": null,
            "max_width": null,
            "order": null,
            "_view_module_version": "1.2.0",
            "grid_template_areas": null,
            "object_position": null,
            "object_fit": null,
            "grid_auto_columns": null,
            "margin": null,
            "display": null,
            "left": null
          }
        },
        "55702a29c6544f3b964611197e05d04e": {
          "model_module": "@jupyter-widgets/controls",
          "model_name": "DescriptionStyleModel",
          "state": {
            "_view_name": "StyleView",
            "_model_name": "DescriptionStyleModel",
            "description_width": "",
            "_view_module": "@jupyter-widgets/base",
            "_model_module_version": "1.5.0",
            "_view_count": null,
            "_view_module_version": "1.2.0",
            "_model_module": "@jupyter-widgets/controls"
          }
        },
        "aff788ea687f4ff3b9e7b1dc3c56c0f4": {
          "model_module": "@jupyter-widgets/base",
          "model_name": "LayoutModel",
          "state": {
            "_view_name": "LayoutView",
            "grid_template_rows": null,
            "right": null,
            "justify_content": null,
            "_view_module": "@jupyter-widgets/base",
            "overflow": null,
            "_model_module_version": "1.2.0",
            "_view_count": null,
            "flex_flow": null,
            "width": null,
            "min_width": null,
            "border": null,
            "align_items": null,
            "bottom": null,
            "_model_module": "@jupyter-widgets/base",
            "top": null,
            "grid_column": null,
            "overflow_y": null,
            "overflow_x": null,
            "grid_auto_flow": null,
            "grid_area": null,
            "grid_template_columns": null,
            "flex": null,
            "_model_name": "LayoutModel",
            "justify_items": null,
            "grid_row": null,
            "max_height": null,
            "align_content": null,
            "visibility": null,
            "align_self": null,
            "height": null,
            "min_height": null,
            "padding": null,
            "grid_auto_rows": null,
            "grid_gap": null,
            "max_width": null,
            "order": null,
            "_view_module_version": "1.2.0",
            "grid_template_areas": null,
            "object_position": null,
            "object_fit": null,
            "grid_auto_columns": null,
            "margin": null,
            "display": null,
            "left": null
          }
        }
      }
    }
  },
  "cells": [
    {
      "cell_type": "markdown",
      "metadata": {
        "id": "JccQsl2OtAOi"
      },
      "source": [
        "### Imports "
      ]
    },
    {
      "cell_type": "code",
      "metadata": {
        "id": "5elHgLPSoiT7"
      },
      "source": [
        "import torch \n",
        "import torchvision\n",
        "import torch.nn as nn \n",
        "from IPython.display import Image \n",
        "from torchvision import transforms\n",
        "import matplotlib.pyplot as plt\n",
        "import random\n",
        "from torch.utils.data import DataLoader\n",
        "from tqdm.auto import tqdm\n",
        "device = torch.device(\"cuda\" if torch.cuda.is_available() else \"cpu\")\n",
        "seed = 12345\n",
        "random.seed(seed)\n",
        "torch.manual_seed(seed)\n",
        "import numpy as np\n"
      ],
      "execution_count": 1,
      "outputs": []
    },
    {
      "cell_type": "markdown",
      "metadata": {
        "id": "y8Aj_LrAhwRP"
      },
      "source": [
        "#### Mount your google drive so you can save model checkpoints, and report your test results on the final best model after hyperparameter tuning"
      ]
    },
    {
      "cell_type": "code",
      "metadata": {
        "id": "utx0ySGqQbha",
        "outputId": "44974424-9ef0-4bb7-dc7e-52d699c6ba51",
        "colab": {
          "base_uri": "https://localhost:8080/",
          "height": 35
        }
      },
      "source": [
        "from google.colab import drive\n",
        "drive.mount('/content/drive')"
      ],
      "execution_count": 2,
      "outputs": [
        {
          "output_type": "stream",
          "text": [
            "Mounted at /content/drive\n"
          ],
          "name": "stdout"
        }
      ]
    },
    {
      "cell_type": "markdown",
      "metadata": {
        "id": "zqzOqBsvs9kA"
      },
      "source": [
        "### Data loading "
      ]
    },
    {
      "cell_type": "markdown",
      "metadata": {
        "id": "3-3MVXNOhdCc"
      },
      "source": [
        "##### Run the following cells to load the dataset. Setting download=True will download it for you."
      ]
    },
    {
      "cell_type": "code",
      "metadata": {
        "id": "8rb7Ng7_VcwL",
        "outputId": "a690e4ec-6d1e-477e-883b-5d7e54f65e93",
        "colab": {
          "base_uri": "https://localhost:8080/",
          "height": 52
        }
      },
      "source": [
        "cifar10_train = torchvision.datasets.CIFAR10(root='./cifar10', \n",
        "                                             train=True, \n",
        "                                             transform=None, \n",
        "                                             target_transform=None,\n",
        "                                             download=True)\n",
        "cifar10_test = torchvision.datasets.CIFAR10(root='./cifar10', \n",
        "                                             train=False, \n",
        "                                             transform=None, \n",
        "                                             target_transform=None,\n",
        "                                             download=True)\n",
        "\n",
        "# Divides the dataset into train and val so that we can use the val to choose our hyperparameters\n",
        "train_dataset, val_dataset = torch.utils.data.random_split(cifar10_train, [40000, 10000], \n",
        "                                                           generator=torch.Generator().manual_seed(12345))\n",
        "test_dataset = cifar10_test\n"
      ],
      "execution_count": null,
      "outputs": [
        {
          "output_type": "stream",
          "text": [
            "Files already downloaded and verified\n",
            "Files already downloaded and verified\n"
          ],
          "name": "stdout"
        }
      ]
    },
    {
      "cell_type": "code",
      "metadata": {
        "id": "J_NzhpK8KvQC"
      },
      "source": [
        "# Helper code to support adding different transforms on the dataset lazily after downloading the dataset\n",
        "# From https://discuss.pytorch.org/t/apply-different-transform-data-augmentation-to-train-and-validation/63580/5\n",
        "class MapDataset(torch.utils.data.Dataset):\n",
        "    \"\"\"\n",
        "    Given a dataset, creates a dataset which applies a mapping function\n",
        "    to its items (lazily, only when an item is called).\n",
        "\n",
        "    Note that data is not cloned/copied from the initial dataset.\n",
        "    \"\"\"\n",
        "\n",
        "    def __init__(self, dataset, map_fn):\n",
        "        self.dataset = dataset\n",
        "        self.map = map_fn\n",
        "\n",
        "    def __getitem__(self, index):\n",
        "        if self.map:     \n",
        "            x = self.map(self.dataset[index][0]) \n",
        "        else:     \n",
        "            x = self.dataset[index][0]  \n",
        "        y = self.dataset[index][1]         \n",
        "        return x, y\n",
        "\n",
        "    def __len__(self):\n",
        "        return len(self.dataset)"
      ],
      "execution_count": null,
      "outputs": []
    },
    {
      "cell_type": "markdown",
      "metadata": {
        "id": "MMbXzcUiKc7e"
      },
      "source": [
        "#### Standard transforms to apply on images - Convert to tensors and normalize with mean and std. These are the basic transforms that you will always apply. The mean and std have been pre calculated on the training set. "
      ]
    },
    {
      "cell_type": "code",
      "metadata": {
        "id": "LWEKU9xQKbkW"
      },
      "source": [
        "# Notice that we apply the same mean and std normalization calculated on train, to both the train and test datasets.\n",
        "test_transform = transforms.Compose([\n",
        "                                     transforms.ToTensor(),\n",
        "                                     transforms.Normalize(\n",
        "                                         [0.4373, 0.4434, 0.4725],\n",
        "                                         [0.1201, 0.1231, 0.1052])\n",
        "                                     ])\n",
        "\n",
        "train_transform = transforms.Compose([\n",
        "                                      transforms.ToTensor(),\n",
        "                                      transforms.Normalize(\n",
        "                                          [0.4373, 0.4434, 0.4725],\n",
        "                                          [0.1201, 0.1231, 0.1052])\n",
        "                                      ])\n"
      ],
      "execution_count": null,
      "outputs": []
    },
    {
      "cell_type": "code",
      "metadata": {
        "id": "TrDIxTs2JwbO"
      },
      "source": [
        "train_dataset_w_transform  = MapDataset(train_dataset, train_transform)\n",
        "val_dataset_w_transform = MapDataset(val_dataset, test_transform)\n",
        "test_dataset_w_transform = MapDataset(test_dataset, test_transform)"
      ],
      "execution_count": null,
      "outputs": []
    },
    {
      "cell_type": "code",
      "metadata": {
        "id": "4LcExDS1tyjI"
      },
      "source": [
        "bs = 128\n",
        "torch.backends.cudnn.benchmark = True\n",
        "train_loader = DataLoader(train_dataset_w_transform, batch_size=bs, shuffle=True, drop_last=False,num_workers=10, pin_memory=True)\n",
        "val_loader = DataLoader(val_dataset_w_transform, batch_size=bs, shuffle=False, drop_last=False,num_workers=10, pin_memory=True)\n",
        "test_loader = DataLoader(test_dataset_w_transform, batch_size=bs, shuffle=False, drop_last=False,num_workers=10, pin_memory=True)\n"
      ],
      "execution_count": null,
      "outputs": []
    },
    {
      "cell_type": "markdown",
      "metadata": {
        "id": "pXLFsEihoMTn"
      },
      "source": [
        "### Q 2.1 Training loop"
      ]
    },
    {
      "cell_type": "markdown",
      "metadata": {
        "id": "ksECLwMqkgj_"
      },
      "source": [
        "In this question, fill in the missing parts to build a generic training loop that returns the train and validation losses and accuracies. The #TODOs will guide you through the key points and you should fill some code for each #TODO. You might need to add some additional code for bookkeeping the losses and accuracies"
      ]
    },
    {
      "cell_type": "code",
      "metadata": {
        "id": "GnmWg9P9N5U_"
      },
      "source": [
        "def train_loop(model, criterion, optimizer,  train_loader, val_loade, n_epoch=50):\n",
        "    \"\"\"\n",
        "    Generic training loop\n",
        "\n",
        "    Parameters\n",
        "    ----------\n",
        "    model : Object instance of your model class \n",
        "    criterion : Loss function \n",
        "    optimizer : Instance of optimizer class of your choice \n",
        "    train_loader : Training data loader \n",
        "    val_loader : Validation data loader\n",
        "\n",
        "    Returns\n",
        "    -------\n",
        "    train_losses : List with train loss on dataset per epoch\n",
        "    train_accuracies : List with train accuracy on dataset per epoch\n",
        "    val_losses : List with validation loss on dataset per epoch\n",
        "    val_accuracies : List with validation accuracy on dataset per epoch\n",
        "\n",
        "    \"\"\"\n",
        "    best_val = 0.0\n",
        "    train_losses = []\n",
        "    val_losses = []\n",
        "    train_accuracies = []\n",
        "    val_accuracies = []\n",
        "    max_patience = 100\n",
        "    patience_counter = 0\n",
        "\n",
        "    # Training\n",
        "    for t in tqdm(range(n_epoch)):\n",
        "      epoch_t_acc = 0.0 \n",
        "      epoch_t_loss = 0.0\n",
        "      # TODO : Set the model to train mode\n",
        "      #model.to(device)       \n",
        "      model.train()\n",
        "      # TODO: Loop over the training set\n",
        "      for train_data, targets in train_loader:\n",
        "        # TODO: Put the inputs and targets on the write device\n",
        "        train_data = train_data.to(device)\n",
        "        targets = targets.to (device)\n",
        "        # TODO: Feed forward to get the logits\n",
        "        y_pred = model.forward(train_data)\n",
        "        score, predicted = torch.max(y_pred, 1)\n",
        "        \n",
        "        # TODO: Compute the loss and accuracy\n",
        "\n",
        "        loss = criterion ( y_pred,targets) \n",
        "        # TODO: zero the gradients before running\n",
        "        # the backward pass.\n",
        "        optimizer.zero_grad()\n",
        "        # TODO: Backward pass to compute the gradient\n",
        "        # of loss w.r.t our learnable params. \n",
        "        loss.backward()\n",
        "        # TODO: Update params\n",
        "        optimizer.step()\n",
        "        # TODO: Keep track of accuracy and loss\n",
        "        train_accuracy = (targets == predicted).sum().float() / len(targets)\n",
        "\n",
        "        epoch_t_acc += train_accuracy\n",
        "        epoch_t_loss += loss.item()\n",
        "\n",
        "      train_losses.append(epoch_t_loss/len(train_loader))\n",
        "      train_accuracies.append(epoch_t_acc/len(train_loader))\n",
        "\n",
        "        # TODO: Switch the model to eval mode\n",
        "      model.eval()\n",
        "\n",
        "      v_acc = 0\n",
        "      v_loss = 0  \n",
        "      with torch.no_grad():\n",
        "          # TODO: Loop over the validation set \n",
        "          for val_data, targets in val_loader:\n",
        "              # TODO: Put the inputs and targets on the write device\n",
        "              val_data = val_data.to(device)\n",
        "              targets = targets.to(device)\n",
        "              # TODO: Feed forward to get the logits\n",
        "              y_pred_val = model (val_data)\n",
        "              score, predicted = torch.max(y_pred_val, 1)\n",
        "              # TODO: Compute the loss and accuracy\n",
        "              loss_val = criterion ( y_pred_val,targets)\n",
        "              accuracy_val = (targets == predicted).sum().float() / len(targets)\n",
        "              # TODO: Keep track of accuracy and loss\n",
        "              v_acc += accuracy_val\n",
        "              v_loss += loss_val\n",
        "\n",
        "      val_losses.append(v_loss/len(val_loader))\n",
        "      val_accuracies.append(v_acc/len(val_loader))\n",
        "\n",
        "      if val_accuracies[-1] > best_val:\n",
        "        best_val = val_accuracies[-1]\n",
        "        patience_counter = 0\n",
        "\n",
        "        # TODO: Save best model, optimizer, epoch_number\n",
        "        torch.save({\n",
        "                    'model': model.state_dict(),\n",
        "                    'optimizer': optimizer.state_dict(),\n",
        "                    'epoch': t,\n",
        "                }, '/content/drive/My Drive/Colab Notebooks/checkpoint.pth')\n",
        "      else:\n",
        "        patience_counter += 1    \n",
        "        if patience_counter > max_patience: \n",
        "          break\n",
        "\n",
        "      print(\"[EPOCH]: %i, [TRAIN LOSS]: %.6f, [TRAIN ACCURACY]: %.3f\" % (t, train_losses[-1], train_accuracies[-1]))\n",
        "      print(\"[EPOCH]: %i, [VAL LOSS]: %.6f, [VAL ACCURACY]: %.3f \\n\" % (t, val_losses[-1] ,val_accuracies[-1]))\n",
        "\n",
        "    return train_losses, train_accuracies, val_losses, val_accuracies"
      ],
      "execution_count": null,
      "outputs": []
    },
    {
      "cell_type": "markdown",
      "metadata": {
        "id": "0sdCTYUouY4o"
      },
      "source": [
        "### Q 2.2 Shallow convolutional network. "
      ]
    },
    {
      "cell_type": "code",
      "metadata": {
        "id": "FKqYI2qxp95J"
      },
      "source": [
        "class View(nn.Module):\n",
        "    def __init__(self, shape):\n",
        "      super().__init__()\n",
        "      self.shape = shape\n",
        "\n",
        "    def forward(self, x):\n",
        "        return x.view(*self.shape)"
      ],
      "execution_count": null,
      "outputs": []
    },
    {
      "cell_type": "code",
      "metadata": {
        "id": "FDHE0lOgpF0W"
      },
      "source": [
        "\n",
        "ShallowNet =  nn.Sequential(\n",
        "      nn.Conv2d(in_channels = 3, out_channels = 64, kernel_size=5, padding=2),\n",
        "      nn.ReLU(),\n",
        "      nn.MaxPool2d(kernel_size=2),\n",
        "      nn.Conv2d(in_channels = 64, out_channels = 128, kernel_size=3, padding=1),\n",
        "      nn.ReLU(),\n",
        "      nn.MaxPool2d(kernel_size=2),\n",
        "      nn.Conv2d(in_channels = 128, out_channels = 256, kernel_size=3, padding=1),\n",
        "      nn.ReLU(),\n",
        "      nn.MaxPool2d(kernel_size=8),\n",
        "      View((-1,256)),\n",
        "      nn.Linear(256, 10),\n",
        ")"
      ],
      "execution_count": null,
      "outputs": []
    },
    {
      "cell_type": "markdown",
      "metadata": {
        "id": "iV26KJLDrzhx"
      },
      "source": [
        "#### Write the object oriented version of ShallowNet"
      ]
    },
    {
      "cell_type": "code",
      "metadata": {
        "id": "H8YygdvnuqDM"
      },
      "source": [
        "class ShallowConvnet(nn.Module):\n",
        "    def __init__(self, input_channels, num_classes):\n",
        "        \"\"\"\n",
        "\n",
        "        Parameters\n",
        "        ----------\n",
        "        input_channels : Number of input channels\n",
        "        num_classes : Number of classes for the final prediction \n",
        "        \"\"\"\n",
        "        \n",
        "        # TODO\n",
        "        super().__init__()\n",
        "        self.shallownet = nn.Sequential(\n",
        "        nn.Conv2d(in_channels = input_channels, out_channels = 64, kernel_size=5, padding=2),\n",
        "        nn.ReLU(),\n",
        "        nn.MaxPool2d(kernel_size=2),\n",
        "        nn.Conv2d(in_channels = 64, out_channels = 128, kernel_size=3, padding=1),\n",
        "        nn.ReLU(),\n",
        "        nn.MaxPool2d(kernel_size=2),\n",
        "        nn.Conv2d(in_channels = 128, out_channels = 256, kernel_size=3, padding=1),\n",
        "        nn.ReLU(),\n",
        "        nn.MaxPool2d(kernel_size=8),\n",
        "        View((-1,256)),\n",
        "        nn.Linear(256, num_classes),\n",
        "        )\n",
        "\n",
        "\n",
        "    def forward(self, x):\n",
        "        \"\"\"\n",
        "\n",
        "        Parameters\n",
        "        ----------\n",
        "        x\n",
        "\n",
        "        Returns\n",
        "        -------\n",
        "        output : Result after running through the model\n",
        "        \"\"\"\n",
        "        \n",
        "        # TODO\n",
        "        output = self.shallownet(x)\n",
        "        return output"
      ],
      "execution_count": null,
      "outputs": []
    },
    {
      "cell_type": "markdown",
      "metadata": {
        "id": "UjEH5jIhwnet"
      },
      "source": [
        "### Q2.3 Instantiate the model and run this using an SGD optimizer, with the appropriate loss function for classification\n",
        "\n",
        "Report the learning curves (training and validation accuracy vs number of epochs)"
      ]
    },
    {
      "cell_type": "code",
      "metadata": {
        "id": "_oG1E-YRu4Cj"
      },
      "source": [
        "# TODO : Initialize the model and cast to correct device\n",
        "model = ShallowConvnet(input_channels=3, num_classes=10)\n",
        "model.to (device)\n",
        "# TODO : Initialize the criterion\n",
        "criterion = torch.nn.CrossEntropyLoss()\n",
        "# TODO : Initialize the SGD optimizer with lr 1e-3\n",
        "optimizer = torch.optim.SGD(model.parameters(), lr=1e-3)\n",
        "# TODO : Run the training loop using this model\n",
        "train_losses, train_accuracies, val_losses, val_acc = train_loop(model, criterion, optimizer,  train_loader, val_loader,50)\n",
        "import numpy as np\n",
        "np.save ('/content/drive/My Drive/Colab Notebooks/train_loss_without_batch_SGD_Shallow_1_3', train_losses)\n",
        "np.save ('/content/drive/My Drive/Colab Notebooks/train_acc_without_batch_SGD_Shallow_1_3', train_accuracies)\n",
        "np.save ('/content/drive/My Drive/Colab Notebooks/val_loss_without_batch_SGD_Shallow_1_3', val_losses)\n",
        "np.save ('/content/drive/My Drive/Colab Notebooks/val_acc_without_batch_SGD_Shallow_1_3', val_acc)\n"
      ],
      "execution_count": null,
      "outputs": []
    },
    {
      "cell_type": "code",
      "metadata": {
        "id": "4BlpF2b32Zt9",
        "outputId": "30ac7923-f9f9-4947-a779-6c4767564b9d",
        "colab": {
          "base_uri": "https://localhost:8080/",
          "height": 313
        }
      },
      "source": [
        "plt.plot(range(442), train_accuracies, label ='train accuracy' )\n",
        "plt.plot (range(442), val_accuracies, label = 'validatio accuracy')\n",
        "plt.xlabel('number of epoch')\n",
        "plt.ylabel (\"accuracy\")\n",
        "plt.grid()\n",
        "plt.legend ()\n",
        "plt.title(\"Learning Curves of ShallowConvnet using SGD\")"
      ],
      "execution_count": null,
      "outputs": [
        {
          "output_type": "execute_result",
          "data": {
            "text/plain": [
              "Text(0.5, 1.0, 'Learning Curves of ShallowConvnet using SGD')"
            ]
          },
          "metadata": {
            "tags": []
          },
          "execution_count": 40
        },
        {
          "output_type": "display_data",
          "data": {
            "image/png": "[encoded data removed]",
            "text/plain": [
              "<Figure size 432x288 with 1 Axes>"
            ]
          },
          "metadata": {
            "tags": [],
            "needs_background": "light"
          }
        }
      ]
    },
    {
      "cell_type": "markdown",
      "metadata": {
        "id": "cLRvwxlJoFQO"
      },
      "source": [
        "### Q2.4 Simple convolution network - "
      ]
    },
    {
      "cell_type": "markdown",
      "metadata": {
        "id": "lSUz9ljRxRc5"
      },
      "source": [
        "Design a convolutional neural network with the following specification: \n",
        "For each convolution layer, use appropriate padding such that it maintains the resolution of the image. The resolution should be changing only when you introduce maxpooling layers. E**ach convolution layer should be followed by a relu non-linearity**. The first two blocks containing 3 convolutional layers are each followed by a maxpooling layer **that halves the resolution of the image**. After the third block, use maxpooling to get a resolution of 1 X 1. Finally, apply a linear transformation to project to the number of classes. \n",
        "\n",
        "Structure of the convolution layers of the model:\n",
        "1. Number of input channels to the model = 3\n",
        "2. First convolution layer of kernel size 5 with filter size 64 and padding such that it maintains the resolution of the image.\n",
        "3. Followed by a block of 3 convolution layers of kernel size 3, filter size 64 and padding such that it maintains the resolution of the image.\n",
        "5. Followed by 3 convolution layers of kernel size 3, filter size 128 and padding such that it maintains the resolution of the image.\n",
        "6. Followed by 3 convolution layers of kernel size 3, filter size 256 and padding such that it maintains the resolution of the image. \n",
        "\n",
        "\n"
      ]
    },
    {
      "cell_type": "code",
      "metadata": {
        "id": "GfwKR3uNlsNc"
      },
      "source": [
        "# Use the description of the structure of the model and the hints given below \n",
        "\n",
        "class SimpleConvnet(nn.Module):\n",
        "    def __init__(self, input_channels, num_classes):\n",
        "        super(SimpleConvnet, self).__init__()\n",
        "        #super().__init__()\n",
        "        self.first_layer = nn.Sequential(\n",
        "                  nn.Conv2d(in_channels = input_channels, out_channels = 64, kernel_size=5, padding=2),\n",
        "                  nn.ReLU()\n",
        "        )\n",
        "        self.first_block = nn.Sequential(\n",
        "                  nn.Conv2d(in_channels = 64, out_channels = 64, kernel_size=3, padding=1),\n",
        "                  nn.ReLU(),\n",
        "                  \n",
        "                  nn.Conv2d(in_channels = 64, out_channels = 64, kernel_size=3, padding=1),\n",
        "                  nn.ReLU(),\n",
        "                  \n",
        "                  nn.Conv2d(in_channels = 64, out_channels = 64, kernel_size=3, padding=1),\n",
        "                  nn.ReLU(),\n",
        "                  nn.MaxPool2d(kernel_size=2, stride=2)  # it halves the resolution of the image             \n",
        "        )\n",
        "        self.second_block = nn.Sequential(\n",
        "          nn.Conv2d(in_channels = 64, out_channels = 128, kernel_size=3, padding=1),\n",
        "          nn.ReLU(),\n",
        "         \n",
        "          nn.Conv2d(in_channels = 128, out_channels = 128, kernel_size=3, padding=1),\n",
        "          nn.ReLU(),\n",
        "         \n",
        "          nn.Conv2d(in_channels = 128, out_channels = 128, kernel_size=3, padding=1),\n",
        "          nn.ReLU(),\n",
        "          nn.MaxPool2d(kernel_size=2, stride=2)  # it halves the resolution of the image             \n",
        "            )\n",
        "        \n",
        "        self.third_block = nn.Sequential(\n",
        "          nn.Conv2d(in_channels = 128, out_channels = 256, kernel_size=3, padding=1),\n",
        "          nn.ReLU(),        \n",
        "          nn.Conv2d(in_channels = 256, out_channels = 256, kernel_size=3, padding=1),\n",
        "          nn.ReLU(),         \n",
        "          nn.Conv2d(in_channels = 256, out_channels = 256, kernel_size=3, padding=1),\n",
        "          nn.ReLU(),\n",
        "          nn.MaxPool2d(kernel_size=8)  # it makes the resolution 1*1 size         \n",
        "            )\n",
        "        self.projection = nn.Sequential(\n",
        "            View((-1,256)),\n",
        "            nn.Linear(256, num_classes)\n",
        "        )\n",
        "        \n",
        "        # TODO\n",
        "\n",
        "    \n",
        "    def forward(self, x):\n",
        "       \n",
        "        # TODO \n",
        "\n",
        "        # HINT: first conv layer \n",
        "        x = self.first_layer(x)\n",
        "\n",
        "        # HINT: block of 3 conv \n",
        "        x = self.first_block(x)\n",
        "\n",
        "        # HINT : block of 3 conv \n",
        "        x = self.second_block(x)\n",
        "\n",
        "        # HINT: block of 3 conv \n",
        "        x = self.third_block (x)\n",
        "\n",
        "        # HINT: projection \n",
        "        x = self.projection(x)\n",
        "        output = x\n",
        "        return output\n",
        "        "
      ],
      "execution_count": null,
      "outputs": []
    },
    {
      "cell_type": "code",
      "metadata": {
        "id": "q_WKoU3ewH2B",
        "outputId": "2a814188-59aa-4d85-df55-f944d5d9cfbf",
        "colab": {
          "base_uri": "https://localhost:8080/",
          "height": 1000,
          "referenced_widgets": [
            "7daa14ef98cd4dbba090c632734bad86",
            "14f74b6770df4f98b40c51fe82642aa2",
            "ccd2990b982e4e26b12799aeef2a523d",
            "ab88713c1dd14dfe84cd22258a3b41ec",
            "b1576d035d2f4936900e35e429374274",
            "9e35001c0e6a4d908c911491b21ac0ea",
            "2519edf6a4ff417ba79851153913ad3a",
            "255de126e77c472c96a20c9337010455"
          ]
        }
      },
      "source": [
        "\n",
        "# TODO : Initialize the model and cast to correct device\n",
        "model = SimpleConvnet(input_channels =3, num_classes = 10)\n",
        "model.to(device)\n",
        "# TODO : Initialize the criterion\n",
        "criterion = torch.nn.CrossEntropyLoss()\n",
        "# TODO : Initialize the SGD optimizer with lr 1e-3\n",
        "optimizer = torch.optim.SGD(model.parameters(), lr=1e-3) \n",
        "# TODO : Run the training loop using this model\n",
        "train_losses, train_accuracies, val_losses,val_acc = train_loop(model, criterion, optimizer,  train_loader, val_loader,50)\n",
        "import numpy as np\n",
        "np.save ('/content/drive/My Drive/Colab Notebooks/train_loss_without_batch_SGD_1_3', train_losses)\n",
        "np.save ('/content/drive/My Drive/Colab Notebooks/train_acc_without_batch_SGD_1_3', train_accuracies)\n",
        "np.save ('/content/drive/My Drive/Colab Notebooks/val_loss_without_batch_SGD_1_3', val_losses)\n",
        "np.save ('/content/drive/My Drive/Colab Notebooks/val_acc_without_batch_SGD_1_3', val_acc)"
      ],
      "execution_count": null,
      "outputs": [
        {
          "output_type": "display_data",
          "data": {
            "application/vnd.jupyter.widget-view+json": {
              "model_id": "7daa14ef98cd4dbba090c632734bad86",
              "version_minor": 0,
              "version_major": 2
            },
            "text/plain": [
              "HBox(children=(FloatProgress(value=0.0, max=50.0), HTML(value='')))"
            ]
          },
          "metadata": {
            "tags": []
          }
        },
        {
          "output_type": "stream",
          "text": [
            "[EPOCH]: 0, [TRAIN LOSS]: 2.303275, [TRAIN ACCURACY]: 0.101\n",
            "[EPOCH]: 0, [VAL LOSS]: 2.303614, [VAL ACCURACY]: 0.097 \n",
            "\n",
            "[EPOCH]: 1, [TRAIN LOSS]: 2.303229, [TRAIN ACCURACY]: 0.101\n",
            "[EPOCH]: 1, [VAL LOSS]: 2.303552, [VAL ACCURACY]: 0.097 \n",
            "\n",
            "[EPOCH]: 2, [TRAIN LOSS]: 2.303183, [TRAIN ACCURACY]: 0.100\n",
            "[EPOCH]: 2, [VAL LOSS]: 2.303495, [VAL ACCURACY]: 0.097 \n",
            "\n",
            "[EPOCH]: 3, [TRAIN LOSS]: 2.303130, [TRAIN ACCURACY]: 0.101\n",
            "[EPOCH]: 3, [VAL LOSS]: 2.303443, [VAL ACCURACY]: 0.097 \n",
            "\n",
            "[EPOCH]: 4, [TRAIN LOSS]: 2.303087, [TRAIN ACCURACY]: 0.101\n",
            "[EPOCH]: 4, [VAL LOSS]: 2.303394, [VAL ACCURACY]: 0.097 \n",
            "\n",
            "[EPOCH]: 5, [TRAIN LOSS]: 2.303043, [TRAIN ACCURACY]: 0.100\n",
            "[EPOCH]: 5, [VAL LOSS]: 2.303349, [VAL ACCURACY]: 0.097 \n",
            "\n",
            "[EPOCH]: 6, [TRAIN LOSS]: 2.303005, [TRAIN ACCURACY]: 0.101\n",
            "[EPOCH]: 6, [VAL LOSS]: 2.303307, [VAL ACCURACY]: 0.097 \n",
            "\n",
            "[EPOCH]: 7, [TRAIN LOSS]: 2.302975, [TRAIN ACCURACY]: 0.101\n",
            "[EPOCH]: 7, [VAL LOSS]: 2.303267, [VAL ACCURACY]: 0.097 \n",
            "\n",
            "[EPOCH]: 8, [TRAIN LOSS]: 2.302949, [TRAIN ACCURACY]: 0.101\n",
            "[EPOCH]: 8, [VAL LOSS]: 2.303231, [VAL ACCURACY]: 0.097 \n",
            "\n",
            "[EPOCH]: 9, [TRAIN LOSS]: 2.302908, [TRAIN ACCURACY]: 0.101\n",
            "[EPOCH]: 9, [VAL LOSS]: 2.303197, [VAL ACCURACY]: 0.097 \n",
            "\n",
            "[EPOCH]: 10, [TRAIN LOSS]: 2.302880, [TRAIN ACCURACY]: 0.101\n",
            "[EPOCH]: 10, [VAL LOSS]: 2.303166, [VAL ACCURACY]: 0.097 \n",
            "\n",
            "[EPOCH]: 11, [TRAIN LOSS]: 2.302863, [TRAIN ACCURACY]: 0.101\n",
            "[EPOCH]: 11, [VAL LOSS]: 2.303137, [VAL ACCURACY]: 0.097 \n",
            "\n",
            "[EPOCH]: 12, [TRAIN LOSS]: 2.302827, [TRAIN ACCURACY]: 0.101\n",
            "[EPOCH]: 12, [VAL LOSS]: 2.303110, [VAL ACCURACY]: 0.097 \n",
            "\n",
            "[EPOCH]: 13, [TRAIN LOSS]: 2.302821, [TRAIN ACCURACY]: 0.100\n",
            "[EPOCH]: 13, [VAL LOSS]: 2.303084, [VAL ACCURACY]: 0.097 \n",
            "\n",
            "[EPOCH]: 14, [TRAIN LOSS]: 2.302787, [TRAIN ACCURACY]: 0.101\n",
            "[EPOCH]: 14, [VAL LOSS]: 2.303061, [VAL ACCURACY]: 0.097 \n",
            "\n",
            "[EPOCH]: 15, [TRAIN LOSS]: 2.302782, [TRAIN ACCURACY]: 0.100\n",
            "[EPOCH]: 15, [VAL LOSS]: 2.303039, [VAL ACCURACY]: 0.097 \n",
            "\n",
            "[EPOCH]: 16, [TRAIN LOSS]: 2.302760, [TRAIN ACCURACY]: 0.101\n",
            "[EPOCH]: 16, [VAL LOSS]: 2.303019, [VAL ACCURACY]: 0.097 \n",
            "\n",
            "[EPOCH]: 17, [TRAIN LOSS]: 2.302744, [TRAIN ACCURACY]: 0.101\n",
            "[EPOCH]: 17, [VAL LOSS]: 2.303001, [VAL ACCURACY]: 0.097 \n",
            "\n",
            "[EPOCH]: 18, [TRAIN LOSS]: 2.302731, [TRAIN ACCURACY]: 0.100\n",
            "[EPOCH]: 18, [VAL LOSS]: 2.302983, [VAL ACCURACY]: 0.097 \n",
            "\n",
            "[EPOCH]: 19, [TRAIN LOSS]: 2.302721, [TRAIN ACCURACY]: 0.100\n",
            "[EPOCH]: 19, [VAL LOSS]: 2.302966, [VAL ACCURACY]: 0.097 \n",
            "\n",
            "[EPOCH]: 20, [TRAIN LOSS]: 2.302706, [TRAIN ACCURACY]: 0.100\n",
            "[EPOCH]: 20, [VAL LOSS]: 2.302950, [VAL ACCURACY]: 0.097 \n",
            "\n",
            "[EPOCH]: 21, [TRAIN LOSS]: 2.302693, [TRAIN ACCURACY]: 0.101\n",
            "[EPOCH]: 21, [VAL LOSS]: 2.302936, [VAL ACCURACY]: 0.097 \n",
            "\n",
            "[EPOCH]: 22, [TRAIN LOSS]: 2.302682, [TRAIN ACCURACY]: 0.101\n",
            "[EPOCH]: 22, [VAL LOSS]: 2.302922, [VAL ACCURACY]: 0.097 \n",
            "\n",
            "[EPOCH]: 23, [TRAIN LOSS]: 2.302677, [TRAIN ACCURACY]: 0.101\n",
            "[EPOCH]: 23, [VAL LOSS]: 2.302909, [VAL ACCURACY]: 0.097 \n",
            "\n",
            "[EPOCH]: 24, [TRAIN LOSS]: 2.302666, [TRAIN ACCURACY]: 0.101\n",
            "[EPOCH]: 24, [VAL LOSS]: 2.302898, [VAL ACCURACY]: 0.097 \n",
            "\n",
            "[EPOCH]: 25, [TRAIN LOSS]: 2.302653, [TRAIN ACCURACY]: 0.101\n",
            "[EPOCH]: 25, [VAL LOSS]: 2.302887, [VAL ACCURACY]: 0.097 \n",
            "\n",
            "[EPOCH]: 26, [TRAIN LOSS]: 2.302646, [TRAIN ACCURACY]: 0.101\n",
            "[EPOCH]: 26, [VAL LOSS]: 2.302876, [VAL ACCURACY]: 0.097 \n",
            "\n",
            "[EPOCH]: 27, [TRAIN LOSS]: 2.302643, [TRAIN ACCURACY]: 0.101\n",
            "[EPOCH]: 27, [VAL LOSS]: 2.302867, [VAL ACCURACY]: 0.097 \n",
            "\n",
            "[EPOCH]: 28, [TRAIN LOSS]: 2.302634, [TRAIN ACCURACY]: 0.101\n",
            "[EPOCH]: 28, [VAL LOSS]: 2.302858, [VAL ACCURACY]: 0.097 \n",
            "\n",
            "[EPOCH]: 29, [TRAIN LOSS]: 2.302628, [TRAIN ACCURACY]: 0.101\n",
            "[EPOCH]: 29, [VAL LOSS]: 2.302849, [VAL ACCURACY]: 0.097 \n",
            "\n",
            "[EPOCH]: 30, [TRAIN LOSS]: 2.302617, [TRAIN ACCURACY]: 0.101\n",
            "[EPOCH]: 30, [VAL LOSS]: 2.302842, [VAL ACCURACY]: 0.097 \n",
            "\n",
            "[EPOCH]: 31, [TRAIN LOSS]: 2.302619, [TRAIN ACCURACY]: 0.100\n",
            "[EPOCH]: 31, [VAL LOSS]: 2.302835, [VAL ACCURACY]: 0.097 \n",
            "\n",
            "[EPOCH]: 32, [TRAIN LOSS]: 2.302610, [TRAIN ACCURACY]: 0.101\n",
            "[EPOCH]: 32, [VAL LOSS]: 2.302828, [VAL ACCURACY]: 0.097 \n",
            "\n",
            "[EPOCH]: 33, [TRAIN LOSS]: 2.302608, [TRAIN ACCURACY]: 0.101\n",
            "[EPOCH]: 33, [VAL LOSS]: 2.302821, [VAL ACCURACY]: 0.097 \n",
            "\n",
            "[EPOCH]: 34, [TRAIN LOSS]: 2.302606, [TRAIN ACCURACY]: 0.100\n",
            "[EPOCH]: 34, [VAL LOSS]: 2.302814, [VAL ACCURACY]: 0.097 \n",
            "\n",
            "[EPOCH]: 35, [TRAIN LOSS]: 2.302600, [TRAIN ACCURACY]: 0.101\n",
            "[EPOCH]: 35, [VAL LOSS]: 2.302809, [VAL ACCURACY]: 0.097 \n",
            "\n",
            "[EPOCH]: 36, [TRAIN LOSS]: 2.302597, [TRAIN ACCURACY]: 0.100\n",
            "[EPOCH]: 36, [VAL LOSS]: 2.302803, [VAL ACCURACY]: 0.097 \n",
            "\n",
            "[EPOCH]: 37, [TRAIN LOSS]: 2.302593, [TRAIN ACCURACY]: 0.100\n",
            "[EPOCH]: 37, [VAL LOSS]: 2.302798, [VAL ACCURACY]: 0.097 \n",
            "\n",
            "[EPOCH]: 38, [TRAIN LOSS]: 2.302591, [TRAIN ACCURACY]: 0.101\n",
            "[EPOCH]: 38, [VAL LOSS]: 2.302793, [VAL ACCURACY]: 0.097 \n",
            "\n",
            "[EPOCH]: 39, [TRAIN LOSS]: 2.302585, [TRAIN ACCURACY]: 0.101\n",
            "[EPOCH]: 39, [VAL LOSS]: 2.302789, [VAL ACCURACY]: 0.097 \n",
            "\n",
            "[EPOCH]: 40, [TRAIN LOSS]: 2.302584, [TRAIN ACCURACY]: 0.100\n",
            "[EPOCH]: 40, [VAL LOSS]: 2.302785, [VAL ACCURACY]: 0.097 \n",
            "\n",
            "[EPOCH]: 41, [TRAIN LOSS]: 2.302582, [TRAIN ACCURACY]: 0.101\n",
            "[EPOCH]: 41, [VAL LOSS]: 2.302781, [VAL ACCURACY]: 0.097 \n",
            "\n",
            "[EPOCH]: 42, [TRAIN LOSS]: 2.302578, [TRAIN ACCURACY]: 0.101\n",
            "[EPOCH]: 42, [VAL LOSS]: 2.302777, [VAL ACCURACY]: 0.097 \n",
            "\n",
            "[EPOCH]: 43, [TRAIN LOSS]: 2.302578, [TRAIN ACCURACY]: 0.101\n",
            "[EPOCH]: 43, [VAL LOSS]: 2.302773, [VAL ACCURACY]: 0.097 \n",
            "\n",
            "[EPOCH]: 44, [TRAIN LOSS]: 2.302573, [TRAIN ACCURACY]: 0.101\n",
            "[EPOCH]: 44, [VAL LOSS]: 2.302770, [VAL ACCURACY]: 0.097 \n",
            "\n",
            "[EPOCH]: 45, [TRAIN LOSS]: 2.302575, [TRAIN ACCURACY]: 0.101\n",
            "[EPOCH]: 45, [VAL LOSS]: 2.302767, [VAL ACCURACY]: 0.097 \n",
            "\n",
            "[EPOCH]: 46, [TRAIN LOSS]: 2.302570, [TRAIN ACCURACY]: 0.101\n",
            "[EPOCH]: 46, [VAL LOSS]: 2.302764, [VAL ACCURACY]: 0.097 \n",
            "\n",
            "[EPOCH]: 47, [TRAIN LOSS]: 2.302570, [TRAIN ACCURACY]: 0.101\n",
            "[EPOCH]: 47, [VAL LOSS]: 2.302761, [VAL ACCURACY]: 0.097 \n",
            "\n",
            "[EPOCH]: 48, [TRAIN LOSS]: 2.302568, [TRAIN ACCURACY]: 0.101\n",
            "[EPOCH]: 48, [VAL LOSS]: 2.302758, [VAL ACCURACY]: 0.097 \n",
            "\n",
            "[EPOCH]: 49, [TRAIN LOSS]: 2.302563, [TRAIN ACCURACY]: 0.101\n",
            "[EPOCH]: 49, [VAL LOSS]: 2.302757, [VAL ACCURACY]: 0.097 \n",
            "\n",
            "\n"
          ],
          "name": "stdout"
        }
      ]
    },
    {
      "cell_type": "markdown",
      "metadata": {
        "id": "mZRJhVst0BLv"
      },
      "source": [
        "### Q 2.5 Report results of training using SGD optimizer for both ShallowNet and SimpleConvnet. What do you observe?"
      ]
    },
    {
      "cell_type": "markdown",
      "metadata": {
        "id": "578OTle9eXbR"
      },
      "source": [
        "Train accuracies of both ShallowNet and SimpleConvnet using SGD optmizer is 1.0 and 0.1. This means SGD opmizer (lr = 1e-3) does not work on training SimpleCovent. "
      ]
    },
    {
      "cell_type": "markdown",
      "metadata": {
        "id": "dqDi8TcmwwR6"
      },
      "source": [
        "\n",
        "**-- In case of ShallowConvnet, using learning rate as 1.0 results in 'nan' values of train and value accuracies. Thus I have set learning rate as 0.5 instead of 1.0 **\n",
        "\n"
      ]
    },
    {
      "cell_type": "markdown",
      "metadata": {
        "id": "uvhatzNb1BcD"
      },
      "source": [
        "**Train shallow convolution network**\n"
      ]
    },
    {
      "cell_type": "code",
      "metadata": {
        "id": "1841YmccoUFL"
      },
      "source": [
        "# TODO : Initialize the model and cast to correct device\n",
        "model = ShallowConvnet(input_channels=3, num_classes=10)\n",
        "model.to (device)\n",
        "# TODO : Initialize the criterion\n",
        "criterion = torch.nn.CrossEntropyLoss()\n",
        "# TODO : Initialize the SGD optimizer with lr 1e-3\n",
        "#optimizer = torch.optim.SGD(model.parameters(), lr=0.1)\n",
        "optimizer = torch.optim.SGD(model.parameters(), lr=0.5)\n",
        "# TODO : Run the training loop using this model\n",
        "train_losses, train_accuracies, val_losses, val_acc = train_loop(model, criterion, optimizer,  train_loader, val_loader,50)\n",
        "import numpy as np\n",
        "'''\n",
        "np.save ('/content/drive/My Drive/Colab Notebooks/train_loss_without_batch_SGD_Shallow_0_1', train_losses)\n",
        "np.save ('/content/drive/My Drive/Colab Notebooks/train_acc_without_batch_SGD_Shallow_0_1', train_accuracies)\n",
        "np.save ('/content/drive/My Drive/Colab Notebooks/val_loss_without_batch_SGD_Shallow_0_1', val_losses)\n",
        "np.save ('/content/drive/My Drive/Colab Notebooks/val_acc_without_batch_SGD_Shallow_0_1', val_acc)\n",
        "'''\n",
        "np.save ('/content/drive/My Drive/Colab Notebooks/train_loss_without_batch_SGD_Shallow_0_5', train_losses)\n",
        "np.save ('/content/drive/My Drive/Colab Notebooks/train_acc_without_batch_SGD_Shallow_0_5', train_accuracies)\n",
        "np.save ('/content/drive/My Drive/Colab Notebooks/val_loss_without_batch_SGD_Shallow_0_5', val_losses)\n",
        "np.save ('/content/drive/My Drive/Colab Notebooks/val_acc_without_batch_SGD_Shallow_0_5', val_acc)\n"
      ],
      "execution_count": null,
      "outputs": []
    },
    {
      "cell_type": "markdown",
      "metadata": {
        "id": "WssFy3eO1Fb9"
      },
      "source": [
        "**Train simple convolution network**"
      ]
    },
    {
      "cell_type": "code",
      "metadata": {
        "id": "Bj7slZeNoU_r"
      },
      "source": [
        "# TODO : Initialize the model and cast to correct device\n",
        "model = SimpleConvnet(input_channels =3, num_classes = 10)\n",
        "model.to(device)\n",
        "# TODO : Initialize the criterion\n",
        "criterion = torch.nn.CrossEntropyLoss()\n",
        "# TODO : Initialize the SGD optimizer with lr 1e-3\n",
        "optimizer = torch.optim.SGD(model.parameters(), lr=0.1) \n",
        "#optimizer = torch.optim.SGD(model.parameters(), lr=1.0) \n",
        "# TODO : Run the training loop using this model\n",
        "train_losses, train_accuracies, val_losses,val_acc = train_loop(model, criterion, optimizer,  train_loader, val_loader,50)\n",
        "import numpy as np\n",
        "\n",
        "np.save ('/content/drive/My Drive/Colab Notebooks/train_loss_without_batch_SGD_0_1', train_losses)\n",
        "np.save ('/content/drive/My Drive/Colab Notebooks/train_acc_without_batch_SGD_0_1', train_accuracies)\n",
        "np.save ('/content/drive/My Drive/Colab Notebooks/val_loss_without_batch_SGD_0_1', val_losses)\n",
        "np.save ('/content/drive/My Drive/Colab Notebooks/val_acc_without_batch_SGD_0_1', val_acc)\n",
        "'''\n",
        "np.save ('/content/drive/My Drive/Colab Notebooks/train_loss_without_batch_SGD_1_0', train_losses)\n",
        "np.save ('/content/drive/My Drive/Colab Notebooks/train_acc_without_batch_SGD_1_0', train_accuracies)\n",
        "np.save ('/content/drive/My Drive/Colab Notebooks/val_loss_without_batch_SGD_1_0', val_losses)\n",
        "np.save ('/content/drive/My Drive/Colab Notebooks/val_acc_without_batch_SGD_1_0', val_acc)\n",
        "'''"
      ],
      "execution_count": null,
      "outputs": []
    },
    {
      "cell_type": "markdown",
      "metadata": {
        "id": "RLwUd4xR1K5J"
      },
      "source": [
        "**Load plotting data**"
      ]
    },
    {
      "cell_type": "code",
      "metadata": {
        "id": "q3vAOhaOe_zE"
      },
      "source": [
        "import numpy as np\n",
        "# load SimpleConvnet data, learning rate = 1.0\n",
        "#train_losses_1_0 = np.load ('/content/drive/My Drive/Colab Notebooks/train_loss_without_batch_SGD_1_0.npy')\n",
        "train_accuracies_1_0 = np.load ('/content/drive/My Drive/Colab Notebooks/train_acc_without_batch_SGD_1_0.npy',allow_pickle= True)\n",
        "val_acc_1_0 = np.load ('/content/drive/My Drive/Colab Notebooks/val_acc_without_batch_SGD_1_0.npy', allow_pickle= True)\n",
        "\n",
        "# load Shallow Convenet data ,learning rate = 0.5\n",
        "train_accuracies_shallow_0_5 =np.load ('/content/drive/My Drive/Colab Notebooks/train_acc_without_batch_SGD_Shallow_0_5.npy', allow_pickle= True)\n",
        "val_acc_shallow_0_5 = np.load ('/content/drive/My Drive/Colab Notebooks/val_acc_without_batch_SGD_Shallow_0_5.npy', allow_pickle= True)\n",
        "\n",
        "# load SimpleConvnet data, lr = 0.1\n",
        "train_accuracies_0_1 = np.load ('/content/drive/My Drive/Colab Notebooks/train_acc_without_batch_SGD_0_1.npy',allow_pickle= True)\n",
        "val_acc_0_1 = np.load ('/content/drive/My Drive/Colab Notebooks/val_acc_without_batch_SGD_0_1.npy', allow_pickle= True)\n",
        "# load Shallow Convenet data, lr = 0.1\n",
        "train_accuracies_shallow_0_1 =np.load ('/content/drive/My Drive/Colab Notebooks/train_acc_without_batch_SGD_Shallow_0_1.npy', allow_pickle= True)\n",
        "val_acc_shallow_0_1 = np.load ('/content/drive/My Drive/Colab Notebooks/val_acc_without_batch_SGD_Shallow_0_1.npy', allow_pickle= True)\n",
        "\n"
      ],
      "execution_count": null,
      "outputs": []
    },
    {
      "cell_type": "markdown",
      "metadata": {
        "id": "yXTGzbE81qt0"
      },
      "source": [
        "**Plot train and validation accuracies**"
      ]
    },
    {
      "cell_type": "code",
      "metadata": {
        "id": "_hJdTUrkyJcY",
        "outputId": "32e96244-a0c7-452f-c29d-c2f7fa74930f",
        "colab": {
          "base_uri": "https://localhost:8080/",
          "height": 672
        }
      },
      "source": [
        "plt.figure (1, figsize= (7,5))\n",
        "plt.plot ((range (len (train_accuracies_1_0))), train_accuracies_1_0, 'b', label = 'train accuracy of SimpleConvNet, lr = 1.0')\n",
        "plt.plot ((range (len (val_acc_1_0))), val_acc_1_0,'b-*', label = 'validation accuracy of SimpleConvNet, lr = 1.0')\n",
        "\n",
        "plt.plot ((range (len (train_accuracies_shallow_0_5))), train_accuracies_shallow_0_5, 'r', label = 'train accuracy of ShallowConvNet, lr = 0.5')\n",
        "plt.plot ((range (len (val_acc_shallow_0_5))), val_acc_shallow_0_5,'r-*', label = 'validation accuracy of ShallowConvNet, lr = 0.5')\n",
        "plt.legend()\n",
        "plt.grid()\n",
        "plt.title ('Train and Validation Accuracy Comparison, (lr = 1.0 and 0.5)')\n",
        "\n",
        "plt.figure (2, figsize = (7,5))\n",
        "plt.plot ((range (len (train_accuracies_0_1))), train_accuracies_0_1, 'b', label = 'train accuracy of SimpleConvNet, lr = 0.1')\n",
        "plt.plot ((range (len (val_acc_0_1))), val_acc_0_1,'b-*', label = 'validation accuracy of SimpleConvNet, lr = 0.1')\n",
        "\n",
        "plt.plot ((range (len (train_accuracies_shallow_0_1))), train_accuracies_shallow_0_1, 'r', label = 'train accuracy of ShallowConvNet, lr = 0.1')\n",
        "plt.plot ((range (len (val_acc_shallow_0_1))), val_acc_shallow_0_1,'r-*', label = 'validation accuracy of ShallowConvNet, lr = 0.1')\n",
        "plt.legend()\n",
        "plt.grid()\n",
        "plt.title ('Train and Validation Accuracy Comparison, (lr = 0.1)')"
      ],
      "execution_count": null,
      "outputs": [
        {
          "output_type": "execute_result",
          "data": {
            "text/plain": [
              "Text(0.5, 1.0, 'Train and Validation Accuracy Comparison, (lr = 0.1)')"
            ]
          },
          "metadata": {
            "tags": []
          },
          "execution_count": 42
        },
        {
          "output_type": "display_data",
          "data": {
            "image/png": "[encoded data removed]",
            "text/plain": [
              "<Figure size 504x360 with 1 Axes>"
            ]
          },
          "metadata": {
            "tags": [],
            "needs_background": "light"
          }
        },
        {
          "output_type": "display_data",
          "data": {
            "image/png": "[encoded data removed]",
            "text/plain": [
              "<Figure size 504x360 with 1 Axes>"
            ]
          },
          "metadata": {
            "tags": [],
            "needs_background": "light"
          }
        }
      ]
    },
    {
      "cell_type": "markdown",
      "metadata": {
        "id": "2dwZm0H-yqLy"
      },
      "source": [
        "The above figures show that the large learning rate values do not contribute to learning of both SimpleConvNet and ShallowConvNet.\n",
        "\n",
        "When learning rate is 0.1, ShallowConvNet shows better performance than SimpleConvNet."
      ]
    },
    {
      "cell_type": "markdown",
      "metadata": {
        "id": "uv6ExxBvLL3Y"
      },
      "source": [
        "### Q 2.6 Add batch normalization"
      ]
    },
    {
      "cell_type": "markdown",
      "metadata": {
        "id": "S8IFrRqC0WwA"
      },
      "source": [
        "#### Q2.6 a After each relu layer, add a batch normalization layer to the network SimpleConvnet you created above"
      ]
    },
    {
      "cell_type": "code",
      "metadata": {
        "id": "U7nvtAeBoiUX"
      },
      "source": [
        "class SimpleConvnet2(nn.Module):\n",
        "    def __init__(self, input_channels, num_classes):\n",
        "        super(SimpleConvnet2, self).__init__()\n",
        "       \n",
        "        self.first_layer = nn.Sequential(\n",
        "                  nn.Conv2d(in_channels = input_channels, out_channels = 64, kernel_size=5, padding=2),\n",
        "                  nn.ReLU(),\n",
        "                  nn.BatchNorm2d(64))\n",
        "        self.first_block = nn.Sequential(\n",
        "                  nn.Conv2d(in_channels = 64, out_channels = 64, kernel_size=3, padding=1),\n",
        "                  nn.ReLU(),\n",
        "                  nn.BatchNorm2d(64),\n",
        "                  \n",
        "                  nn.Conv2d(in_channels = 64, out_channels = 64, kernel_size=3, padding=1),\n",
        "                  nn.ReLU(),\n",
        "                  nn.BatchNorm2d(64),\n",
        "\n",
        "                  nn.Conv2d(in_channels = 64, out_channels = 64, kernel_size=3, padding=1),\n",
        "                  nn.ReLU(),\n",
        "                  nn.BatchNorm2d(64),\n",
        "                  nn.MaxPool2d(kernel_size=2, stride=2)  # it halves the resolution of the image             \n",
        "        )\n",
        "        self.second_block = nn.Sequential(\n",
        "          nn.Conv2d(in_channels = 64, out_channels = 128, kernel_size=3, padding=1),\n",
        "          nn.ReLU(),\n",
        "          nn.BatchNorm2d(128),\n",
        "         \n",
        "          nn.Conv2d(in_channels = 128, out_channels = 128, kernel_size=3, padding=1),\n",
        "          nn.ReLU(),\n",
        "         nn.BatchNorm2d(128),\n",
        "\n",
        "          nn.Conv2d(in_channels = 128, out_channels = 128, kernel_size=3, padding=1),\n",
        "          nn.ReLU(),\n",
        "          nn.BatchNorm2d(128),\n",
        "          nn.MaxPool2d(kernel_size=2, stride=2)  # it halves the resolution of the image             \n",
        "            )\n",
        "        \n",
        "        self.third_block = nn.Sequential(\n",
        "          nn.Conv2d(in_channels = 128, out_channels = 256, kernel_size=3, padding=1),\n",
        "          nn.ReLU(),\n",
        "          nn.BatchNorm2d(256),\n",
        "\n",
        "          nn.Conv2d(in_channels = 256, out_channels = 256, kernel_size=3, padding=1),\n",
        "          nn.ReLU(), \n",
        "          nn.BatchNorm2d(256),\n",
        "\n",
        "          nn.Conv2d(in_channels = 256, out_channels = 256, kernel_size=3, padding=1),\n",
        "          nn.ReLU(),\n",
        "          nn.BatchNorm2d(256),\n",
        "          nn.MaxPool2d(kernel_size=8)  # it makes the resolution 1*1 size         \n",
        "            )\n",
        "        self.projection = nn.Sequential(\n",
        "            View((-1,256)),\n",
        "            nn.Linear(256, num_classes)\n",
        "        )\n",
        "        \n",
        "    \n",
        "    def forward(self, x):\n",
        "       \n",
        "        # TODO \n",
        "\n",
        "        # HINT: first conv layer \n",
        "        x = self.first_layer(x)\n",
        "\n",
        "        # HINT: block of 3 conv \n",
        "        x = self.first_block(x)\n",
        "\n",
        "        # HINT : block of 3 conv \n",
        "        x = self.second_block(x)\n",
        "\n",
        "        # HINT: block of 3 conv \n",
        "        x = self.third_block (x)\n",
        "\n",
        "        # HINT: projection \n",
        "        x = self.projection(x)\n",
        "        output = x\n",
        "        \n",
        "        return output\n",
        "        "
      ],
      "execution_count": null,
      "outputs": []
    },
    {
      "cell_type": "code",
      "metadata": {
        "id": "hgqQzKV10tz7"
      },
      "source": [
        "# TODO : Initialize the model and cast to correct device\n",
        "model = SimpleConvnet2(input_channels =3, num_classes = 10)\n",
        "model.to(device)\n",
        "# TODO : Initialize the criterion\n",
        "criterion = torch.nn.CrossEntropyLoss()\n",
        "# TODO : Initialize the SGD optimizer with lr 1e-3\n",
        "optimizer = torch.optim.SGD(model.parameters(), lr=1e-3) \n",
        "# TODO : Run the training loop using this model\n",
        "train_losses_b, train_accuracies_b, val_losses_b,val_acc_b = train_loop(model, criterion, optimizer,  train_loader, val_loader,50)\n",
        "import numpy as np\n",
        "np.save ('/content/drive/My Drive/Colab Notebooks/train_loss_with_batch_SGD', train_losses_b)\n",
        "np.save ('/content/drive/My Drive/Colab Notebooks/train_acc_with_batch_SGD', train_accuracies_b)\n",
        "np.save ('/content/drive/My Drive/Colab Notebooks/val_loss_with_batch_SGD', val_losses_b)\n",
        "np.save ('/content/drive/My Drive/Colab Notebooks/val_acc_with_batch_SGD', val_acc_b)"
      ],
      "execution_count": null,
      "outputs": []
    },
    {
      "cell_type": "markdown",
      "metadata": {
        "id": "w5wqxHGa0vZe"
      },
      "source": [
        "#### Q2.6 b Plot the the training curves (training loss vs \\# epochs, training accuracy vs # epochs) using SGD (lr 1e-3) with and without batch normalization. Comment on the difference. "
      ]
    },
    {
      "cell_type": "code",
      "metadata": {
        "id": "2WPLiTuL4uv0"
      },
      "source": [
        "import numpy as np\n",
        "train_losses_without_batch = np.load ('/content/drive/My Drive/Colab Notebooks/train_loss_without_batch_SGD_1_3.npy')\n",
        "train_accuracies_without_batch = np.load ('/content/drive/My Drive/Colab Notebooks/train_acc_without_batch_SGD_1_3.npy', allow_pickle=True)\n",
        "train_losses_with_batch = np.load ('/content/drive/My Drive/Colab Notebooks/train_loss_with_batch_SGD.npy', allow_pickle=True)\n",
        "train_accuracies_with_batch = np.load ('/content/drive/My Drive/Colab Notebooks/train_acc_with_batch_SGD.npy', allow_pickle=True)\n"
      ],
      "execution_count": 3,
      "outputs": []
    },
    {
      "cell_type": "code",
      "metadata": {
        "id": "h0lsyL1dmpsY",
        "outputId": "539cc2f5-be20-4c2d-ff78-c0a1a95be245",
        "colab": {
          "base_uri": "https://localhost:8080/",
          "height": 562
        }
      },
      "source": [
        "plt.figure(1)\n",
        "plt.plot (range(50),train_accuracies_without_batch, 'b',label = \"without batch normalization\")\n",
        "plt.plot (range(50),train_accuracies_with_batch,'r', label = \"with batch normalization\")\n",
        "plt.grid()\n",
        "plt.legend()\n",
        "plt.title ('Train Accuracies Comparison (SimpleConvNet, lr = 1e-3)')\n",
        "\n",
        "\n",
        "plt.figure (2)\n",
        "plt.plot (range(50),train_losses_without_batch,'b', label = \"without batch normalization\")\n",
        "plt.plot (range(50),train_losses_with_batch,'r', label = \"with batch normalization\")\n",
        "plt.grid()\n",
        "plt.legend()\n",
        "plt.title ('Train Loss Comparison (SimpleConvNet, lr = 1e-3)')\n"
      ],
      "execution_count": 4,
      "outputs": [
        {
          "output_type": "execute_result",
          "data": {
            "text/plain": [
              "Text(0.5, 1.0, 'Train Loss Comparison (SimpleConvNet, lr = 1e-3)')"
            ]
          },
          "metadata": {
            "tags": []
          },
          "execution_count": 4
        },
        {
          "output_type": "display_data",
          "data": {
            "image/png": "[encoded data removed]",
            "text/plain": [
              "<Figure size 432x288 with 1 Axes>"
            ]
          },
          "metadata": {
            "tags": [],
            "needs_background": "light"
          }
        },
        {
          "output_type": "display_data",
          "data": {
            "image/png": "[encoded data removed]",
            "text/plain": [
              "<Figure size 432x288 with 1 Axes>"
            ]
          },
          "metadata": {
            "tags": [],
            "needs_background": "light"
          }
        }
      ]
    },
    {
      "cell_type": "markdown",
      "metadata": {
        "id": "3m3eIlz-NY98"
      },
      "source": [
        "Using batch normalization improves the performance a lot in terms of train accuracies.\n"
      ]
    },
    {
      "cell_type": "markdown",
      "metadata": {
        "id": "ZW0227y408ej"
      },
      "source": [
        "#### Q2.6 c. Try running the same two networks with an Adam optimizer (lr 1e-4). Plot the the training curves (training loss vs \\# epochs, training accuracy vs # epochs) with and without batch normalization. Comment on the difference. "
      ]
    },
    {
      "cell_type": "code",
      "metadata": {
        "id": "cZUMCcIoMsiW"
      },
      "source": [
        "# Without batch normalization\n",
        "# TODO : Initialize the model and cast to correct device\n",
        "model = SimpleConvnet(input_channels =3, num_classes = 10) # set epoch as 100\n",
        "model.to(device)\n",
        "# TODO : Initialize the criterion\n",
        "criterion = torch.nn.CrossEntropyLoss()\n",
        "# TODO : Initialize the Adam optimizer with lr 1e-4\n",
        "optimizer = torch.optim.Adam(model.parameters(), lr=1e-4) \n",
        "# TODO : Run the training loop using this model\n",
        "train_losses, train_accuracies, val_losses,val_acc = train_loop(model, criterion, optimizer,  train_loader, val_loader,100)\n",
        "import numpy as np\n",
        "np.save ('/content/drive/My Drive/Colab Notebooks/train_loss_without_batch_adam', train_losses)\n",
        "np.save ('/content/drive/My Drive/Colab Notebooks/train_acc_without_batch_adam', train_accuracies)\n",
        "np.save ('/content/drive/My Drive/Colab Notebooks/val_loss_without_batch_adam', val_losses)\n",
        "np.save ('/content/drive/My Drive/Colab Notebooks/val_acc_without_batch_adam', val_acc)\n",
        "\n",
        "# With batch normalization\n",
        "# TODO : Initialize the model and cast to correct device\n",
        "model = SimpleConvnet2(input_channels =3, num_classes = 10) # set eposh as 100\n",
        "model.to(device)\n",
        "# TODO : Initialize the criterion\n",
        "criterion = torch.nn.CrossEntropyLoss()\n",
        "# TODO : Initialize the Adam optimizer with lr 1e-4\n",
        "optimizer = torch.optim.Adam(model.parameters(), lr=1e-4) \n",
        "# TODO : Run the training loop using this model\n",
        "train_losses_b, train_accuracies_b, val_losses_b,val_acc_b = train_loop(model, criterion, optimizer,  train_loader, val_loader,100)\n",
        "import numpy as np\n",
        "np.save ('/content/drive/My Drive/Colab Notebooks/train_loss_with_batch_adam', train_losses_b)\n",
        "np.save ('/content/drive/My Drive/Colab Notebooks/train_acc_with_batch_adam', train_accuracies_b)\n",
        "np.save ('/content/drive/My Drive/Colab Notebooks/val_loss_with_batch_adam', val_losses_b)\n",
        "np.save ('/content/drive/My Drive/Colab Notebooks/val_acc_with_batch_adam', val_acc_b)\n",
        "\n"
      ],
      "execution_count": null,
      "outputs": []
    },
    {
      "cell_type": "code",
      "metadata": {
        "id": "YIkRaD9OWTDQ",
        "outputId": "3fba90b4-876b-4963-ac42-294c49c4539f",
        "colab": {
          "base_uri": "https://localhost:8080/",
          "height": 545
        }
      },
      "source": [
        "\n",
        "\n",
        "plt.figure(1)\n",
        "plt.plot (range(100),train_accuracies, label = \"without batch normalization\")\n",
        "plt.plot (range(100),train_accuracies_b, label = \"with batch normalization\")\n",
        "plt.grid()\n",
        "plt.legend()\n",
        "plt.title ('Train Accuracy using Adam Optimizer')\n",
        ")\n",
        "\n",
        "plt.figure (2)\n",
        "plt.plot (range(100),train_losses, label = \"without batch normalization\")\n",
        "plt.plot (range(100),train_losses_b, label = \"with batch normalization\")\n",
        "plt.grid()\n",
        "plt.legend()\n",
        "plt.title ('Train Loss using Adam Optimizer ')\n"
      ],
      "execution_count": null,
      "outputs": [
        {
          "output_type": "display_data",
          "data": {
            "image/png": "[encoded data removed]",
            "text/plain": [
              "<Figure size 432x288 with 1 Axes>"
            ]
          },
          "metadata": {
            "tags": [],
            "needs_background": "light"
          }
        },
        {
          "output_type": "display_data",
          "data": {
            "image/png": "[encoded data removed]",
            "text/plain": [
              "<Figure size 432x288 with 1 Axes>"
            ]
          },
          "metadata": {
            "tags": [],
            "needs_background": "light"
          }
        }
      ]
    },
    {
      "cell_type": "markdown",
      "metadata": {
        "id": "H1ukoPNK2r8R"
      },
      "source": [
        "**The figures show that employing batch normalization leads the train accuracy to converge fast. Also the train loss reduce faster than not using batch normalization. In addition, when utilizing Adam optimizer, regardless of batch normalization, we can get good train accuracies after enough number of epoch.**"
      ]
    },
    {
      "cell_type": "markdown",
      "metadata": {
        "id": "XeVzHHciAt-W"
      },
      "source": [
        "#### Q2.6 d Once you choose an optimizer and see that it does train, make sure your model has enough capacity by overfitting on one batch of the data set. You should be able to get 100% train accuracy. \n"
      ]
    },
    {
      "cell_type": "markdown",
      "metadata": {
        "id": "ANkTYeTWn6Mv"
      },
      "source": [
        "### Q 2.7 Add residual connections"
      ]
    },
    {
      "cell_type": "markdown",
      "metadata": {
        "id": "A55lJPET13Q7"
      },
      "source": [
        "#### Residual connections help stabilise training and lead to faster convergence. In this question you will introduce residual connections into the SimpleConvnet2 model that you built above. \n",
        "\n",
        "We will add residual connections after each block of 3 convolutional layers. Lets consider the first block of three convolutional layers. The input to this block, the so called residual, is added to the output of the block before the final batch normalization layer of that block. \n",
        "\n",
        "\n",
        "IMP NOTE: You will notice that the number of filters of these two summands are not the same. For this, you will need to use a convolution layer on the residual component, which changes the number of filters while keeping the rest of the dimensions the same. This can be achieved with a careful selection of the input_channels, output_channels, kernel_size and padding parameters. "
      ]
    },
    {
      "cell_type": "code",
      "metadata": {
        "id": "rzxWZNrmUzFT"
      },
      "source": [
        "class ResidualConvnet(nn.Module):\n",
        "    def __init__(self, input_channels, num_classes):\n",
        "        super(ResidualConvnet, self).__init__()\n",
        "        ## first layer\n",
        "        self.first_layer = nn.Sequential(\n",
        "                  nn.Conv2d(in_channels = input_channels, out_channels = 64, kernel_size=5, padding=2),\n",
        "                  nn.ReLU(),\n",
        "                  nn.BatchNorm2d(64))\n",
        "        \n",
        "        ## first block\n",
        "        self.first_block = nn.Sequential(\n",
        "                  nn.Conv2d(in_channels = 64, out_channels = 64, kernel_size=3, padding=1),\n",
        "                  nn.ReLU(),\n",
        "                  nn.BatchNorm2d(64),\n",
        "                  \n",
        "                  nn.Conv2d(in_channels = 64, out_channels = 64, kernel_size=3, padding=1),\n",
        "                  nn.ReLU(),\n",
        "                  nn.BatchNorm2d(64),\n",
        "\n",
        "                  nn.Conv2d(in_channels = 64, out_channels = 64, kernel_size=3, padding=1),\n",
        "                  nn.ReLU()\n",
        "        )\n",
        "        self.first_BatchNorm_MaxPool = nn.Sequential(         ##\n",
        "                  nn.BatchNorm2d(64),\n",
        "                  nn.MaxPool2d(kernel_size=2, stride=2)  # it halves the resolution of the image             \n",
        "        ) \n",
        "         \n",
        "        # second block\n",
        "        self.second_block = nn.Sequential(\n",
        "          nn.Conv2d(in_channels = 64, out_channels = 128, kernel_size=3, padding=1),\n",
        "          nn.ReLU(),\n",
        "          nn.BatchNorm2d(128),\n",
        "         \n",
        "          nn.Conv2d(in_channels = 128, out_channels = 128, kernel_size=3, padding=1),\n",
        "          nn.ReLU(),\n",
        "         nn.BatchNorm2d(128),\n",
        "\n",
        "          nn.Conv2d(in_channels = 128, out_channels = 128, kernel_size=3, padding=1),\n",
        "          nn.ReLU()\n",
        "          )\n",
        "        self.second_BatchNorm_MaxPool = nn.Sequential(\n",
        "          nn.BatchNorm2d(128),\n",
        "          nn.MaxPool2d(kernel_size=2, stride=2)  # it halves the resolution of the image             \n",
        "            )\n",
        "          # change the number of input channel as that of output chanel\n",
        "        self.conv_64_128 = nn.Conv2d(in_channels = 64, out_channels = 128, kernel_size=3, padding=1)\n",
        "\n",
        "        ## thrid block\n",
        "        self.third_block = nn.Sequential(\n",
        "          nn.Conv2d(in_channels = 128, out_channels = 256, kernel_size=3, padding=1),\n",
        "          nn.ReLU(),\n",
        "          nn.BatchNorm2d(256),\n",
        "\n",
        "          nn.Conv2d(in_channels = 256, out_channels = 256, kernel_size=3, padding=1),\n",
        "          nn.ReLU(), \n",
        "          nn.BatchNorm2d(256),\n",
        "\n",
        "          nn.Conv2d(in_channels = 256, out_channels = 256, kernel_size=3, padding=1),\n",
        "          nn.ReLU()\n",
        "          )\n",
        "        self.thrid_BatchNorm_MaxPool = nn.Sequential(\n",
        "          nn.BatchNorm2d(256),\n",
        "          nn.MaxPool2d(kernel_size=8)  # it makes the resolution 1*1 size         \n",
        "            )\n",
        "          # change the number of input channel as that of output chanel\n",
        "        self.conv_128_256 = nn.Conv2d(in_channels = 128, out_channels = 256, kernel_size=3, padding=1)\n",
        "\n",
        "        # projection layer\n",
        "        self.projection = nn.Sequential(\n",
        "            View((-1,256)),\n",
        "            nn.Linear(256, num_classes)\n",
        "        )\n",
        "    \n",
        "    def forward(self, x):\n",
        "        # TODO \n",
        "\n",
        "        # first conv layer \n",
        "        x_first_layer = self.first_layer(x)\n",
        "\n",
        "        # let's make residual net here\n",
        "        x_first_b = self.first_block(x_first_layer) + x_first_layer\n",
        "        # after then do batch normalization\n",
        "        x_first_b = self.first_BatchNorm_MaxPool(x_first_b) # channel number is 64\n",
        "\n",
        "        #  make residual net but we need to make the number of chanel same\n",
        "        x_second_b = self.second_block(x_first_b) + self.conv_64_128(x_first_b) # chanel number is 128\n",
        "        x_second_b = self.second_BatchNorm_MaxPool(x_second_b) # bathc normalization\n",
        "\n",
        "        # in the same way\n",
        "        x_third_b = self.third_block (x_second_b) + self.conv_128_256(x_second_b)\n",
        "        x_third_b = self.thrid_BatchNorm_MaxPool(x_third_b)\n",
        "\n",
        "        #  projection \n",
        "        output = self.projection(x_third_b)\n",
        "        \n",
        "        return output\n",
        "        "
      ],
      "execution_count": null,
      "outputs": []
    },
    {
      "cell_type": "code",
      "metadata": {
        "id": "Wn9OWZiceenh",
        "outputId": "a59718fe-9d2c-49e7-b6f7-64799a401303",
        "colab": {
          "base_uri": "https://localhost:8080/",
          "height": 1000,
          "referenced_widgets": [
            "ca13285c384244b3a93429b5a346ec32",
            "3efa2fbeae0b4e23ba80e8c856efe75f",
            "f4362b58293f4eea9143769eaf1173c9",
            "b653e2acaed54f6cb5024117501c3239",
            "d7309801fd0449c19466a8969dff2496",
            "b1b6e13828b1489985fff6908541ab49",
            "c7a147a7f71c463baaff9c355bc62038",
            "a094e6f7f03744ac83a90ac6d0ab4504"
          ]
        }
      },
      "source": [
        "# With batch normalization\n",
        "# TODO : Initialize the model and cast to correct device\n",
        "model = ResidualConvnet(input_channels =3, num_classes = 10)\n",
        "model.to(device)\n",
        "# TODO : Initialize the criterion\n",
        "criterion = torch.nn.CrossEntropyLoss()\n",
        "# TODO : Initialize the Adam optimizer with lr 1e-4\n",
        "optimizer = torch.optim.Adam(model.parameters(), lr=1e-4) \n",
        "# TODO : Run the training loop using this model\n",
        "train_losses_b_res, train_accuracies_b_res, val_losses_b_res, val_acc_b_rs = train_loop(model, criterion, optimizer,  train_loader, val_loader, 100)\n",
        "import numpy as np\n",
        "np.save ('/content/drive/My Drive/Colab Notebooks/train_loss_res_batch', train_losses_b_res)\n",
        "np.save ('/content/drive/My Drive/Colab Notebooks/train_acc_res_batch', train_accuracies_b_res)\n",
        "np.save ('/content/drive/My Drive/Colab Notebooks/val_loss_res_batch', val_losses_b_res)\n",
        "np.save ('/content/drive/My Drive/Colab Notebooks/val_acc_res_batch', val_acc_b_rs)"
      ],
      "execution_count": null,
      "outputs": [
        {
          "output_type": "display_data",
          "data": {
            "application/vnd.jupyter.widget-view+json": {
              "model_id": "ca13285c384244b3a93429b5a346ec32",
              "version_minor": 0,
              "version_major": 2
            },
            "text/plain": [
              "HBox(children=(FloatProgress(value=0.0), HTML(value='')))"
            ]
          },
          "metadata": {
            "tags": []
          }
        },
        {
          "output_type": "stream",
          "text": [
            "[EPOCH]: 0, [TRAIN LOSS]: 1.361532, [TRAIN ACCURACY]: 0.522\n",
            "[EPOCH]: 0, [VAL LOSS]: 1.083446, [VAL ACCURACY]: 0.619 \n",
            "\n",
            "[EPOCH]: 1, [TRAIN LOSS]: 0.882581, [TRAIN ACCURACY]: 0.699\n",
            "[EPOCH]: 1, [VAL LOSS]: 0.866043, [VAL ACCURACY]: 0.695 \n",
            "\n",
            "[EPOCH]: 2, [TRAIN LOSS]: 0.652426, [TRAIN ACCURACY]: 0.786\n",
            "[EPOCH]: 2, [VAL LOSS]: 0.781289, [VAL ACCURACY]: 0.725 \n",
            "\n",
            "[EPOCH]: 3, [TRAIN LOSS]: 0.476911, [TRAIN ACCURACY]: 0.854\n",
            "[EPOCH]: 3, [VAL LOSS]: 0.715825, [VAL ACCURACY]: 0.750 \n",
            "\n",
            "[EPOCH]: 4, [TRAIN LOSS]: 0.326474, [TRAIN ACCURACY]: 0.912\n",
            "[EPOCH]: 4, [VAL LOSS]: 0.671482, [VAL ACCURACY]: 0.767 \n",
            "\n",
            "[EPOCH]: 5, [TRAIN LOSS]: 0.197532, [TRAIN ACCURACY]: 0.959\n",
            "[EPOCH]: 5, [VAL LOSS]: 0.677580, [VAL ACCURACY]: 0.770 \n",
            "\n",
            "[EPOCH]: 6, [TRAIN LOSS]: 0.097312, [TRAIN ACCURACY]: 0.989\n",
            "[EPOCH]: 6, [VAL LOSS]: 0.667291, [VAL ACCURACY]: 0.777 \n",
            "\n",
            "[EPOCH]: 7, [TRAIN LOSS]: 0.043209, [TRAIN ACCURACY]: 0.998\n",
            "[EPOCH]: 7, [VAL LOSS]: 0.670009, [VAL ACCURACY]: 0.787 \n",
            "\n",
            "[EPOCH]: 8, [TRAIN LOSS]: 0.016203, [TRAIN ACCURACY]: 1.000\n",
            "[EPOCH]: 8, [VAL LOSS]: 0.668171, [VAL ACCURACY]: 0.793 \n",
            "\n",
            "[EPOCH]: 9, [TRAIN LOSS]: 0.008237, [TRAIN ACCURACY]: 1.000\n",
            "[EPOCH]: 9, [VAL LOSS]: 0.681281, [VAL ACCURACY]: 0.795 \n",
            "\n",
            "[EPOCH]: 10, [TRAIN LOSS]: 0.005618, [TRAIN ACCURACY]: 1.000\n",
            "[EPOCH]: 10, [VAL LOSS]: 0.690020, [VAL ACCURACY]: 0.795 \n",
            "\n",
            "[EPOCH]: 11, [TRAIN LOSS]: 0.003606, [TRAIN ACCURACY]: 1.000\n",
            "[EPOCH]: 11, [VAL LOSS]: 0.703961, [VAL ACCURACY]: 0.797 \n",
            "\n",
            "[EPOCH]: 12, [TRAIN LOSS]: 0.111788, [TRAIN ACCURACY]: 0.963\n",
            "[EPOCH]: 12, [VAL LOSS]: 0.830885, [VAL ACCURACY]: 0.728 \n",
            "\n",
            "[EPOCH]: 13, [TRAIN LOSS]: 0.190533, [TRAIN ACCURACY]: 0.941\n",
            "[EPOCH]: 13, [VAL LOSS]: 0.727268, [VAL ACCURACY]: 0.771 \n",
            "\n",
            "[EPOCH]: 14, [TRAIN LOSS]: 0.036678, [TRAIN ACCURACY]: 0.995\n",
            "[EPOCH]: 14, [VAL LOSS]: 0.688882, [VAL ACCURACY]: 0.794 \n",
            "\n",
            "[EPOCH]: 15, [TRAIN LOSS]: 0.007435, [TRAIN ACCURACY]: 1.000\n",
            "[EPOCH]: 15, [VAL LOSS]: 0.679164, [VAL ACCURACY]: 0.803 \n",
            "\n",
            "[EPOCH]: 16, [TRAIN LOSS]: 0.002863, [TRAIN ACCURACY]: 1.000\n",
            "[EPOCH]: 16, [VAL LOSS]: 0.687983, [VAL ACCURACY]: 0.807 \n",
            "\n",
            "[EPOCH]: 17, [TRAIN LOSS]: 0.001797, [TRAIN ACCURACY]: 1.000\n",
            "[EPOCH]: 17, [VAL LOSS]: 0.701375, [VAL ACCURACY]: 0.807 \n",
            "\n",
            "[EPOCH]: 18, [TRAIN LOSS]: 0.001350, [TRAIN ACCURACY]: 1.000\n",
            "[EPOCH]: 18, [VAL LOSS]: 0.715302, [VAL ACCURACY]: 0.807 \n",
            "\n",
            "[EPOCH]: 19, [TRAIN LOSS]: 0.001037, [TRAIN ACCURACY]: 1.000\n",
            "[EPOCH]: 19, [VAL LOSS]: 0.723046, [VAL ACCURACY]: 0.806 \n",
            "\n",
            "[EPOCH]: 20, [TRAIN LOSS]: 0.000838, [TRAIN ACCURACY]: 1.000\n",
            "[EPOCH]: 20, [VAL LOSS]: 0.735273, [VAL ACCURACY]: 0.806 \n",
            "\n",
            "[EPOCH]: 21, [TRAIN LOSS]: 0.000671, [TRAIN ACCURACY]: 1.000\n",
            "[EPOCH]: 21, [VAL LOSS]: 0.742081, [VAL ACCURACY]: 0.809 \n",
            "\n",
            "[EPOCH]: 22, [TRAIN LOSS]: 0.000569, [TRAIN ACCURACY]: 1.000\n",
            "[EPOCH]: 22, [VAL LOSS]: 0.749745, [VAL ACCURACY]: 0.805 \n",
            "\n",
            "[EPOCH]: 23, [TRAIN LOSS]: 0.000454, [TRAIN ACCURACY]: 1.000\n",
            "[EPOCH]: 23, [VAL LOSS]: 0.757847, [VAL ACCURACY]: 0.808 \n",
            "\n",
            "[EPOCH]: 24, [TRAIN LOSS]: 0.000382, [TRAIN ACCURACY]: 1.000\n",
            "[EPOCH]: 24, [VAL LOSS]: 0.770530, [VAL ACCURACY]: 0.807 \n",
            "\n",
            "[EPOCH]: 25, [TRAIN LOSS]: 0.000316, [TRAIN ACCURACY]: 1.000\n",
            "[EPOCH]: 25, [VAL LOSS]: 0.779545, [VAL ACCURACY]: 0.806 \n",
            "\n",
            "[EPOCH]: 26, [TRAIN LOSS]: 0.000273, [TRAIN ACCURACY]: 1.000\n",
            "[EPOCH]: 26, [VAL LOSS]: 0.788701, [VAL ACCURACY]: 0.808 \n",
            "\n",
            "[EPOCH]: 27, [TRAIN LOSS]: 0.000230, [TRAIN ACCURACY]: 1.000\n",
            "[EPOCH]: 27, [VAL LOSS]: 0.793035, [VAL ACCURACY]: 0.807 \n",
            "\n",
            "[EPOCH]: 28, [TRAIN LOSS]: 0.000187, [TRAIN ACCURACY]: 1.000\n",
            "[EPOCH]: 28, [VAL LOSS]: 0.803335, [VAL ACCURACY]: 0.807 \n",
            "\n",
            "[EPOCH]: 29, [TRAIN LOSS]: 0.000166, [TRAIN ACCURACY]: 1.000\n",
            "[EPOCH]: 29, [VAL LOSS]: 0.813432, [VAL ACCURACY]: 0.807 \n",
            "\n",
            "[EPOCH]: 30, [TRAIN LOSS]: 0.000172, [TRAIN ACCURACY]: 1.000\n",
            "[EPOCH]: 30, [VAL LOSS]: 0.820855, [VAL ACCURACY]: 0.807 \n",
            "\n",
            "[EPOCH]: 31, [TRAIN LOSS]: 0.000115, [TRAIN ACCURACY]: 1.000\n",
            "[EPOCH]: 31, [VAL LOSS]: 0.834187, [VAL ACCURACY]: 0.807 \n",
            "\n",
            "[EPOCH]: 32, [TRAIN LOSS]: 0.000094, [TRAIN ACCURACY]: 1.000\n",
            "[EPOCH]: 32, [VAL LOSS]: 0.839798, [VAL ACCURACY]: 0.808 \n",
            "\n",
            "[EPOCH]: 33, [TRAIN LOSS]: 0.000080, [TRAIN ACCURACY]: 1.000\n",
            "[EPOCH]: 33, [VAL LOSS]: 0.849606, [VAL ACCURACY]: 0.809 \n",
            "\n",
            "[EPOCH]: 34, [TRAIN LOSS]: 0.000068, [TRAIN ACCURACY]: 1.000\n",
            "[EPOCH]: 34, [VAL LOSS]: 0.862336, [VAL ACCURACY]: 0.808 \n",
            "\n",
            "[EPOCH]: 35, [TRAIN LOSS]: 0.000057, [TRAIN ACCURACY]: 1.000\n",
            "[EPOCH]: 35, [VAL LOSS]: 0.868026, [VAL ACCURACY]: 0.807 \n",
            "\n",
            "[EPOCH]: 36, [TRAIN LOSS]: 0.000049, [TRAIN ACCURACY]: 1.000\n",
            "[EPOCH]: 36, [VAL LOSS]: 0.879492, [VAL ACCURACY]: 0.807 \n",
            "\n",
            "[EPOCH]: 37, [TRAIN LOSS]: 0.000042, [TRAIN ACCURACY]: 1.000\n",
            "[EPOCH]: 37, [VAL LOSS]: 0.886622, [VAL ACCURACY]: 0.807 \n",
            "\n",
            "[EPOCH]: 38, [TRAIN LOSS]: 0.034866, [TRAIN ACCURACY]: 0.989\n",
            "[EPOCH]: 38, [VAL LOSS]: 1.725319, [VAL ACCURACY]: 0.594 \n",
            "\n",
            "[EPOCH]: 39, [TRAIN LOSS]: 0.420105, [TRAIN ACCURACY]: 0.852\n",
            "[EPOCH]: 39, [VAL LOSS]: 0.667545, [VAL ACCURACY]: 0.786 \n",
            "\n",
            "[EPOCH]: 40, [TRAIN LOSS]: 0.070700, [TRAIN ACCURACY]: 0.984\n",
            "[EPOCH]: 40, [VAL LOSS]: 0.678487, [VAL ACCURACY]: 0.800 \n",
            "\n",
            "[EPOCH]: 41, [TRAIN LOSS]: 0.013176, [TRAIN ACCURACY]: 0.999\n",
            "[EPOCH]: 41, [VAL LOSS]: 0.689642, [VAL ACCURACY]: 0.812 \n",
            "\n",
            "[EPOCH]: 42, [TRAIN LOSS]: 0.003706, [TRAIN ACCURACY]: 1.000\n",
            "[EPOCH]: 42, [VAL LOSS]: 0.685563, [VAL ACCURACY]: 0.819 \n",
            "\n",
            "[EPOCH]: 43, [TRAIN LOSS]: 0.001897, [TRAIN ACCURACY]: 1.000\n",
            "[EPOCH]: 43, [VAL LOSS]: 0.708226, [VAL ACCURACY]: 0.816 \n",
            "\n",
            "[EPOCH]: 44, [TRAIN LOSS]: 0.001311, [TRAIN ACCURACY]: 1.000\n",
            "[EPOCH]: 44, [VAL LOSS]: 0.714410, [VAL ACCURACY]: 0.816 \n",
            "\n",
            "[EPOCH]: 45, [TRAIN LOSS]: 0.000968, [TRAIN ACCURACY]: 1.000\n",
            "[EPOCH]: 45, [VAL LOSS]: 0.726468, [VAL ACCURACY]: 0.817 \n",
            "\n",
            "[EPOCH]: 46, [TRAIN LOSS]: 0.000768, [TRAIN ACCURACY]: 1.000\n",
            "[EPOCH]: 46, [VAL LOSS]: 0.734562, [VAL ACCURACY]: 0.817 \n",
            "\n",
            "[EPOCH]: 47, [TRAIN LOSS]: 0.000612, [TRAIN ACCURACY]: 1.000\n",
            "[EPOCH]: 47, [VAL LOSS]: 0.746855, [VAL ACCURACY]: 0.819 \n",
            "\n",
            "[EPOCH]: 48, [TRAIN LOSS]: 0.000495, [TRAIN ACCURACY]: 1.000\n",
            "[EPOCH]: 48, [VAL LOSS]: 0.756399, [VAL ACCURACY]: 0.818 \n",
            "\n",
            "[EPOCH]: 49, [TRAIN LOSS]: 0.000417, [TRAIN ACCURACY]: 1.000\n",
            "[EPOCH]: 49, [VAL LOSS]: 0.762216, [VAL ACCURACY]: 0.819 \n",
            "\n",
            "[EPOCH]: 50, [TRAIN LOSS]: 0.000339, [TRAIN ACCURACY]: 1.000\n",
            "[EPOCH]: 50, [VAL LOSS]: 0.772004, [VAL ACCURACY]: 0.817 \n",
            "\n",
            "[EPOCH]: 51, [TRAIN LOSS]: 0.000287, [TRAIN ACCURACY]: 1.000\n",
            "[EPOCH]: 51, [VAL LOSS]: 0.782706, [VAL ACCURACY]: 0.818 \n",
            "\n",
            "[EPOCH]: 52, [TRAIN LOSS]: 0.000243, [TRAIN ACCURACY]: 1.000\n",
            "[EPOCH]: 52, [VAL LOSS]: 0.788300, [VAL ACCURACY]: 0.818 \n",
            "\n",
            "[EPOCH]: 53, [TRAIN LOSS]: 0.000205, [TRAIN ACCURACY]: 1.000\n",
            "[EPOCH]: 53, [VAL LOSS]: 0.798398, [VAL ACCURACY]: 0.817 \n",
            "\n",
            "[EPOCH]: 54, [TRAIN LOSS]: 0.000177, [TRAIN ACCURACY]: 1.000\n",
            "[EPOCH]: 54, [VAL LOSS]: 0.806958, [VAL ACCURACY]: 0.816 \n",
            "\n",
            "[EPOCH]: 55, [TRAIN LOSS]: 0.000147, [TRAIN ACCURACY]: 1.000\n",
            "[EPOCH]: 55, [VAL LOSS]: 0.815359, [VAL ACCURACY]: 0.817 \n",
            "\n",
            "[EPOCH]: 56, [TRAIN LOSS]: 0.000123, [TRAIN ACCURACY]: 1.000\n",
            "[EPOCH]: 56, [VAL LOSS]: 0.826626, [VAL ACCURACY]: 0.817 \n",
            "\n",
            "[EPOCH]: 57, [TRAIN LOSS]: 0.000102, [TRAIN ACCURACY]: 1.000\n",
            "[EPOCH]: 57, [VAL LOSS]: 0.831343, [VAL ACCURACY]: 0.817 \n",
            "\n",
            "[EPOCH]: 58, [TRAIN LOSS]: 0.000085, [TRAIN ACCURACY]: 1.000\n",
            "[EPOCH]: 58, [VAL LOSS]: 0.843126, [VAL ACCURACY]: 0.817 \n",
            "\n",
            "[EPOCH]: 59, [TRAIN LOSS]: 0.000073, [TRAIN ACCURACY]: 1.000\n",
            "[EPOCH]: 59, [VAL LOSS]: 0.851361, [VAL ACCURACY]: 0.817 \n",
            "\n",
            "[EPOCH]: 60, [TRAIN LOSS]: 0.000066, [TRAIN ACCURACY]: 1.000\n",
            "[EPOCH]: 60, [VAL LOSS]: 0.858871, [VAL ACCURACY]: 0.815 \n",
            "\n",
            "[EPOCH]: 61, [TRAIN LOSS]: 0.000056, [TRAIN ACCURACY]: 1.000\n",
            "[EPOCH]: 61, [VAL LOSS]: 0.862917, [VAL ACCURACY]: 0.816 \n",
            "\n",
            "[EPOCH]: 62, [TRAIN LOSS]: 0.000047, [TRAIN ACCURACY]: 1.000\n",
            "[EPOCH]: 62, [VAL LOSS]: 0.879708, [VAL ACCURACY]: 0.815 \n",
            "\n",
            "[EPOCH]: 63, [TRAIN LOSS]: 0.000039, [TRAIN ACCURACY]: 1.000\n",
            "[EPOCH]: 63, [VAL LOSS]: 0.887067, [VAL ACCURACY]: 0.817 \n",
            "\n",
            "[EPOCH]: 64, [TRAIN LOSS]: 0.000034, [TRAIN ACCURACY]: 1.000\n",
            "[EPOCH]: 64, [VAL LOSS]: 0.898695, [VAL ACCURACY]: 0.816 \n",
            "\n",
            "[EPOCH]: 65, [TRAIN LOSS]: 0.000028, [TRAIN ACCURACY]: 1.000\n",
            "[EPOCH]: 65, [VAL LOSS]: 0.913882, [VAL ACCURACY]: 0.817 \n",
            "\n",
            "[EPOCH]: 66, [TRAIN LOSS]: 0.000024, [TRAIN ACCURACY]: 1.000\n",
            "[EPOCH]: 66, [VAL LOSS]: 0.916331, [VAL ACCURACY]: 0.817 \n",
            "\n",
            "[EPOCH]: 67, [TRAIN LOSS]: 0.000021, [TRAIN ACCURACY]: 1.000\n",
            "[EPOCH]: 67, [VAL LOSS]: 0.924002, [VAL ACCURACY]: 0.819 \n",
            "\n",
            "[EPOCH]: 68, [TRAIN LOSS]: 0.000018, [TRAIN ACCURACY]: 1.000\n",
            "[EPOCH]: 68, [VAL LOSS]: 0.929631, [VAL ACCURACY]: 0.817 \n",
            "\n",
            "[EPOCH]: 69, [TRAIN LOSS]: 0.009433, [TRAIN ACCURACY]: 0.997\n",
            "[EPOCH]: 69, [VAL LOSS]: 3.011229, [VAL ACCURACY]: 0.587 \n",
            "\n",
            "[EPOCH]: 70, [TRAIN LOSS]: 0.305988, [TRAIN ACCURACY]: 0.896\n",
            "[EPOCH]: 70, [VAL LOSS]: 0.674120, [VAL ACCURACY]: 0.798 \n",
            "\n",
            "[EPOCH]: 71, [TRAIN LOSS]: 0.030934, [TRAIN ACCURACY]: 0.994\n",
            "[EPOCH]: 71, [VAL LOSS]: 0.700732, [VAL ACCURACY]: 0.811 \n",
            "\n",
            "[EPOCH]: 72, [TRAIN LOSS]: 0.005626, [TRAIN ACCURACY]: 1.000\n",
            "[EPOCH]: 72, [VAL LOSS]: 0.685931, [VAL ACCURACY]: 0.821 \n",
            "\n",
            "[EPOCH]: 73, [TRAIN LOSS]: 0.001859, [TRAIN ACCURACY]: 1.000\n",
            "[EPOCH]: 73, [VAL LOSS]: 0.701739, [VAL ACCURACY]: 0.823 \n",
            "\n",
            "[EPOCH]: 74, [TRAIN LOSS]: 0.001161, [TRAIN ACCURACY]: 1.000\n",
            "[EPOCH]: 74, [VAL LOSS]: 0.713166, [VAL ACCURACY]: 0.822 \n",
            "\n",
            "[EPOCH]: 75, [TRAIN LOSS]: 0.000841, [TRAIN ACCURACY]: 1.000\n",
            "[EPOCH]: 75, [VAL LOSS]: 0.725276, [VAL ACCURACY]: 0.823 \n",
            "\n",
            "[EPOCH]: 76, [TRAIN LOSS]: 0.000648, [TRAIN ACCURACY]: 1.000\n",
            "[EPOCH]: 76, [VAL LOSS]: 0.737445, [VAL ACCURACY]: 0.825 \n",
            "\n",
            "[EPOCH]: 77, [TRAIN LOSS]: 0.000526, [TRAIN ACCURACY]: 1.000\n",
            "[EPOCH]: 77, [VAL LOSS]: 0.745770, [VAL ACCURACY]: 0.823 \n",
            "\n",
            "[EPOCH]: 78, [TRAIN LOSS]: 0.000415, [TRAIN ACCURACY]: 1.000\n",
            "[EPOCH]: 78, [VAL LOSS]: 0.753933, [VAL ACCURACY]: 0.823 \n",
            "\n",
            "[EPOCH]: 79, [TRAIN LOSS]: 0.000344, [TRAIN ACCURACY]: 1.000\n",
            "[EPOCH]: 79, [VAL LOSS]: 0.760042, [VAL ACCURACY]: 0.825 \n",
            "\n",
            "[EPOCH]: 80, [TRAIN LOSS]: 0.000293, [TRAIN ACCURACY]: 1.000\n",
            "[EPOCH]: 80, [VAL LOSS]: 0.773001, [VAL ACCURACY]: 0.824 \n",
            "\n",
            "[EPOCH]: 81, [TRAIN LOSS]: 0.000232, [TRAIN ACCURACY]: 1.000\n",
            "[EPOCH]: 81, [VAL LOSS]: 0.778868, [VAL ACCURACY]: 0.823 \n",
            "\n",
            "[EPOCH]: 82, [TRAIN LOSS]: 0.000205, [TRAIN ACCURACY]: 1.000\n",
            "[EPOCH]: 82, [VAL LOSS]: 0.789905, [VAL ACCURACY]: 0.823 \n",
            "\n",
            "[EPOCH]: 83, [TRAIN LOSS]: 0.000194, [TRAIN ACCURACY]: 1.000\n",
            "[EPOCH]: 83, [VAL LOSS]: 0.792110, [VAL ACCURACY]: 0.825 \n",
            "\n",
            "[EPOCH]: 84, [TRAIN LOSS]: 0.000149, [TRAIN ACCURACY]: 1.000\n",
            "[EPOCH]: 84, [VAL LOSS]: 0.801327, [VAL ACCURACY]: 0.823 \n",
            "\n",
            "[EPOCH]: 85, [TRAIN LOSS]: 0.000117, [TRAIN ACCURACY]: 1.000\n",
            "[EPOCH]: 85, [VAL LOSS]: 0.810535, [VAL ACCURACY]: 0.824 \n",
            "\n",
            "[EPOCH]: 86, [TRAIN LOSS]: 0.000104, [TRAIN ACCURACY]: 1.000\n",
            "[EPOCH]: 86, [VAL LOSS]: 0.821130, [VAL ACCURACY]: 0.824 \n",
            "\n",
            "[EPOCH]: 87, [TRAIN LOSS]: 0.000089, [TRAIN ACCURACY]: 1.000\n",
            "[EPOCH]: 87, [VAL LOSS]: 0.826631, [VAL ACCURACY]: 0.824 \n",
            "\n",
            "[EPOCH]: 88, [TRAIN LOSS]: 0.000075, [TRAIN ACCURACY]: 1.000\n",
            "[EPOCH]: 88, [VAL LOSS]: 0.834521, [VAL ACCURACY]: 0.825 \n",
            "\n",
            "[EPOCH]: 89, [TRAIN LOSS]: 0.000063, [TRAIN ACCURACY]: 1.000\n",
            "[EPOCH]: 89, [VAL LOSS]: 0.843360, [VAL ACCURACY]: 0.824 \n",
            "\n",
            "[EPOCH]: 90, [TRAIN LOSS]: 0.000055, [TRAIN ACCURACY]: 1.000\n",
            "[EPOCH]: 90, [VAL LOSS]: 0.849613, [VAL ACCURACY]: 0.825 \n",
            "\n",
            "[EPOCH]: 91, [TRAIN LOSS]: 0.000045, [TRAIN ACCURACY]: 1.000\n",
            "[EPOCH]: 91, [VAL LOSS]: 0.858957, [VAL ACCURACY]: 0.823 \n",
            "\n",
            "[EPOCH]: 92, [TRAIN LOSS]: 0.000042, [TRAIN ACCURACY]: 1.000\n",
            "[EPOCH]: 92, [VAL LOSS]: 0.866568, [VAL ACCURACY]: 0.823 \n",
            "\n",
            "[EPOCH]: 93, [TRAIN LOSS]: 0.000033, [TRAIN ACCURACY]: 1.000\n",
            "[EPOCH]: 93, [VAL LOSS]: 0.872348, [VAL ACCURACY]: 0.826 \n",
            "\n",
            "[EPOCH]: 94, [TRAIN LOSS]: 0.000029, [TRAIN ACCURACY]: 1.000\n",
            "[EPOCH]: 94, [VAL LOSS]: 0.879761, [VAL ACCURACY]: 0.825 \n",
            "\n",
            "[EPOCH]: 95, [TRAIN LOSS]: 0.000025, [TRAIN ACCURACY]: 1.000\n",
            "[EPOCH]: 95, [VAL LOSS]: 0.888710, [VAL ACCURACY]: 0.824 \n",
            "\n",
            "[EPOCH]: 96, [TRAIN LOSS]: 0.000024, [TRAIN ACCURACY]: 1.000\n",
            "[EPOCH]: 96, [VAL LOSS]: 0.899416, [VAL ACCURACY]: 0.824 \n",
            "\n",
            "[EPOCH]: 97, [TRAIN LOSS]: 0.000019, [TRAIN ACCURACY]: 1.000\n",
            "[EPOCH]: 97, [VAL LOSS]: 0.904337, [VAL ACCURACY]: 0.822 \n",
            "\n",
            "[EPOCH]: 98, [TRAIN LOSS]: 0.000015, [TRAIN ACCURACY]: 1.000\n",
            "[EPOCH]: 98, [VAL LOSS]: 0.915229, [VAL ACCURACY]: 0.823 \n",
            "\n",
            "[EPOCH]: 99, [TRAIN LOSS]: 0.000013, [TRAIN ACCURACY]: 1.000\n",
            "[EPOCH]: 99, [VAL LOSS]: 0.922870, [VAL ACCURACY]: 0.824 \n",
            "\n",
            "\n"
          ],
          "name": "stdout"
        }
      ]
    },
    {
      "cell_type": "markdown",
      "metadata": {
        "id": "NRrWJ63c4C0f"
      },
      "source": [
        "### Q 2.8 Plot the training curves with and without the residual connection. Comment on the difference. "
      ]
    },
    {
      "cell_type": "code",
      "metadata": {
        "id": "zqL1H5emlZSc",
        "outputId": "ff088a22-1135-4f50-d801-512546d26a75",
        "colab": {
          "base_uri": "https://localhost:8080/",
          "height": 655
        }
      },
      "source": [
        "train_losses_b_res = np.load ('/content/drive/My Drive/Colab Notebooks/train_loss_res_batch.npy')\n",
        "train_accuracies_b_res = np.load ('/content/drive/My Drive/Colab Notebooks/train_acc_res_batch.npy', allow_pickle= True)\n",
        "val_losses_b_res = np.load ('/content/drive/My Drive/Colab Notebooks/val_loss_res_batch.npy', allow_pickle= True)\n",
        "val_acc_b_res = np.load ('/content/drive/My Drive/Colab Notebooks/val_acc_res_batch.npy', allow_pickle= True)\n",
        "\n",
        "train_losses_b = np.load ('/content/drive/My Drive/Colab Notebooks/train_loss_with_batch_adam.npy', allow_pickle=True)\n",
        "train_accuracies_b = np.load ('/content/drive/My Drive/Colab Notebooks/train_acc_with_batch_adam.npy', allow_pickle= True)\n",
        "val_losses_b = np.load ('/content/drive/My Drive/Colab Notebooks/val_loss_with_batch_adam.npy', allow_pickle= True)\n",
        "val_acc_b = np.load ('/content/drive/My Drive/Colab Notebooks/val_acc_with_batch_adam.npy', allow_pickle= True)\n",
        "\n",
        "plt.figure(1, figsize = (7,5))\n",
        "plt.plot (range(100),train_accuracies_b_res, 'b',label = \"train accuracy with residual connection\")\n",
        "plt.plot (range(100),val_acc_b_res,'b-*', label = \"validation accuracy with residual connection\")\n",
        "plt.plot (range(100),train_accuracies_b, 'r', label = \"train accuracy without residual connection\")\n",
        "plt.plot (range(100),val_acc_b, 'r-*',label = \"validation accuracy without residual connection\")\n",
        "plt.grid()\n",
        "plt.legend()\n",
        "plt.title (\"accuracies comparison\")\n",
        "plt.savefig('train_residual_comp.png')\n",
        "\n",
        "plt.figure (2, figsize=(7,5))\n",
        "plt.plot (range(100),train_losses_b_res, 'b' , label = \"train loss with residual connection\")\n",
        "plt.plot (range(100),val_losses_b_res , 'b-*', label = \"validation loss with residual connection\")\n",
        "plt.plot (range(100),train_losses_b , 'r' , label = \"train loss without residual connection\")\n",
        "plt.plot (range(100),val_losses_b , 'r-*', label = \"validation loss without residual connection\")\n",
        "plt.grid()\n",
        "plt.legend()\n",
        "plt.title (\"loss comparison\")\n",
        "plt.savefig('loss_residual_comp.png')"
      ],
      "execution_count": null,
      "outputs": [
        {
          "output_type": "display_data",
          "data": {
            "image/png": "[encoded data removed]",
            "text/plain": [
              "<Figure size 504x360 with 1 Axes>"
            ]
          },
          "metadata": {
            "tags": [],
            "needs_background": "light"
          }
        },
        {
          "output_type": "display_data",
          "data": {
            "image/png": "[encoded data removed]",
            "text/plain": [
              "<Figure size 504x360 with 1 Axes>"
            ]
          },
          "metadata": {
            "tags": [],
            "needs_background": "light"
          }
        }
      ]
    },
    {
      "cell_type": "markdown",
      "metadata": {
        "id": "oYRQ-fkJIhC5"
      },
      "source": [
        "**The figures show tha using residual connection improves the train accuracy and reduce the amount of loss compared to the case without residual connection. Also gap between train and validation accuracies (loss) decreses thanks to residual connections.**"
      ]
    },
    {
      "cell_type": "markdown",
      "metadata": {
        "id": "1QXPnxcrx-VU"
      },
      "source": [
        "### Q2.9 Reducing overfiting \n",
        "\n"
      ]
    },
    {
      "cell_type": "markdown",
      "metadata": {
        "id": "HISbvoBh8JTJ"
      },
      "source": [
        "In the previous questions, you might have observed that there is a large difference between the training and validation losses. This is a sign that the model is overfitting. One way to combat this is by adding **random transformations to the input data** to make your model more robust and prevent it from memorizing the input data. \n",
        "\n",
        "Torchvision **provides several transforms **that you can readily apply to your data. **Experiment with adding a few transforms** and report your results in terms of learning curves to see if the gap between the training and validation loss reduces and **try to achieve better perfomance on the validation set**. "
      ]
    },
    {
      "cell_type": "code",
      "metadata": {
        "id": "0cZRQd-VK7ev"
      },
      "source": [
        "test_transform = transforms.Compose([\n",
        "                                     transforms.ToTensor(),\n",
        "                                     transforms.Normalize(\n",
        "                                         [0.4373, 0.4434, 0.4725],\n",
        "                                         [0.1201, 0.1231, 0.1052])\n",
        "                                     ])\n",
        "\n",
        "train_transform = transforms.Compose([\n",
        "                                      # TODO: Add more transforms here \n",
        "                                      #transforms.Scale(32,32),                              \n",
        "                                      transforms.RandomHorizontalFlip(),\n",
        "                                      #transforms.ColorJitter (),  \n",
        "                                      #transforms.RandomVerticalFlip(),\n",
        "                                      transforms.RandomCrop(size=32, padding=4),\n",
        "                                      #transforms.RandomRotation(90),\n",
        "                                      #transforms.RandomResizedCrop(size=32),\n",
        "                                      transforms.ToTensor(),\n",
        "                                      transforms.Normalize(\n",
        "                                          [0.4373, 0.4434, 0.4725],\n",
        "                                          [0.1201, 0.1231, 0.1052])\n",
        "                                      ])\n",
        "## https://pytorch.org/docs/stable/torchvision/transforms.html\n",
        "#https://www.programcreek.com/python/example/104838/torchvision.transforms.RandomCrop"
      ],
      "execution_count": null,
      "outputs": []
    },
    {
      "cell_type": "code",
      "metadata": {
        "id": "brZrUl7mK7ez"
      },
      "source": [
        "train_dataset_w_transform  = MapDataset(train_dataset, train_transform)\n",
        "val_dataset_w_transform = MapDataset(val_dataset, test_transform)\n",
        "test_dataset_w_transform = MapDataset(test_dataset, test_transform)"
      ],
      "execution_count": null,
      "outputs": []
    },
    {
      "cell_type": "code",
      "metadata": {
        "id": "kZp6DqwfK7e1"
      },
      "source": [
        "bs = 128\n",
        "train_loader = DataLoader(train_dataset_w_transform, batch_size=bs, shuffle=True, drop_last=False)\n",
        "val_loader = DataLoader(val_dataset_w_transform, batch_size=bs, shuffle=False, drop_last=False)\n",
        "test_loader = DataLoader(test_dataset_w_transform, batch_size=bs, shuffle=False, drop_last=False)"
      ],
      "execution_count": null,
      "outputs": []
    },
    {
      "cell_type": "markdown",
      "metadata": {
        "id": "xR_9tihT5Vmu"
      },
      "source": [
        "#### Use **the residual network** that you built above and use data augmentation to reduce the overfitting "
      ]
    },
    {
      "cell_type": "code",
      "metadata": {
        "id": "WxMLVdrUwh--"
      },
      "source": [
        "# With batch normalization\n",
        "# TODO : Initialize the model and cast to correct device\n",
        "model = ResidualConvnet(input_channels =3, num_classes = 10)\n",
        "model.to(device)\n",
        "# TODO : Initialize the criterion\n",
        "criterion = torch.nn.CrossEntropyLoss()\n",
        "# TODO : Initialize the Adam optimizer with lr 1e-4\n",
        "optimizer = torch.optim.Adam(model.parameters(), lr=1e-4) \n",
        "# TODO : Run the training loop using this model\n",
        "train_losses_rand_trans, train_accuracies_rand_trans, val_losses_rand_trans,val_acc_rand_trans = train_loop(model, criterion, optimizer,  train_loader, val_loader, 100)\n",
        "import numpy as np\n",
        "np.save ('/content/drive/My Drive/Colab Notebooks/train_loss_rand_trans', train_losses_rand_trans)\n",
        "np.save ('/content/drive/My Drive/Colab Notebooks/train_acc_rand_trans', train_accuracies_rand_trans)\n",
        "np.save ('/content/drive/My Drive/Colab Notebooks/val_loss_rand_trans', val_losses_rand_trans)\n",
        "np.save ('/content/drive/My Drive/Colab Notebooks/val_acc_rand_trans', val_acc_rand_trans)"
      ],
      "execution_count": null,
      "outputs": []
    },
    {
      "cell_type": "code",
      "metadata": {
        "id": "K5_F9BR7co3H",
        "outputId": "189e34f5-df85-4e3b-b666-94e89e293340",
        "colab": {
          "base_uri": "https://localhost:8080/",
          "height": 655
        }
      },
      "source": [
        "\n",
        "import matplotlib.pyplot as plt\n",
        "import numpy as np\n",
        "\n",
        "train_losses_rand_trans = np.load ('/content/drive/My Drive/Colab Notebooks/train_loss_rand_trans.npy')\n",
        "train_accuracies_rand_trans = np.load ('/content/drive/My Drive/Colab Notebooks/train_acc_rand_trans.npy', allow_pickle= True)\n",
        "val_losses_rand_trans = np.load ('/content/drive/My Drive/Colab Notebooks/val_loss_rand_trans.npy', allow_pickle= True)\n",
        "val_acc_rand_trans = np.load ('/content/drive/My Drive/Colab Notebooks/val_acc_rand_trans.npy', allow_pickle= True)\n",
        "\n",
        "train_losses_b_res = np.load ('/content/drive/My Drive/Colab Notebooks/train_loss_res_batch.npy',allow_pickle= True)\n",
        "train_accuracies_b_res = np.load ('/content/drive/My Drive/Colab Notebooks/train_acc_res_batch.npy', allow_pickle=True)\n",
        "val_losses_b_res = np.load ('/content/drive/My Drive/Colab Notebooks/val_loss_res_batch.npy', allow_pickle=True)\n",
        "val_acc_b_res = np.load ('/content/drive/My Drive/Colab Notebooks/val_acc_res_batch.npy', allow_pickle= True)\n",
        "\n",
        "plt.figure(1, figsize = (7,5))\n",
        "plt.plot (range(100),train_accuracies_b_res, 'b',label = \"train accuracy without randomization\")\n",
        "plt.plot (range(100),val_acc_b_res,'b-*', label = \"validation accuracy without randomization\")\n",
        "plt.plot (range(100),train_accuracies_rand_trans, 'r', label = \"train accuracy after randomization\")\n",
        "plt.plot (range(100),val_acc_rand_trans, 'r-*',label = \"validation accuracy after randomization\")\n",
        "plt.grid()\n",
        "plt.legend()\n",
        "plt.title (\"accuracies comparison\")\n",
        "plt.savefig('train_residual_comp.png')\n",
        "\n",
        "plt.figure (2, figsize=(7,5))\n",
        "plt.plot (range(100),train_losses_b_res, 'b' , label = \"train loss without randomization\")\n",
        "plt.plot (range(100),val_losses_b_res , 'b-*', label = \"validation loss without randomization\")\n",
        "plt.plot (range(100),train_losses_rand_trans , 'r' , label = \"train loss after randomization\")\n",
        "plt.plot (range(100),val_losses_rand_trans , 'r-*', label = \"validation loss after randomization\")\n",
        "plt.grid()\n",
        "plt.legend()\n",
        "plt.title (\"loss comparison\")\n",
        "plt.savefig('loss_residual_comp.png')\n"
      ],
      "execution_count": null,
      "outputs": [
        {
          "output_type": "display_data",
          "data": {
            "image/png": "[encoded data removed]",
            "text/plain": [
              "<Figure size 504x360 with 1 Axes>"
            ]
          },
          "metadata": {
            "tags": [],
            "needs_background": "light"
          }
        },
        {
          "output_type": "display_data",
          "data": {
            "image/png": "[encoded data removed]",
            "text/plain": [
              "<Figure size 504x360 with 1 Axes>"
            ]
          },
          "metadata": {
            "tags": [],
            "needs_background": "light"
          }
        }
      ]
    },
    {
      "cell_type": "markdown",
      "metadata": {
        "id": "chJn_HGn3vFz"
      },
      "source": [
        "As we can see, after randomization of input data, the gap between train and validation accuracies becomes smaller. Accordingly, the discrepancy between train and validation loss is reduced comparably."
      ]
    },
    {
      "cell_type": "markdown",
      "metadata": {
        "id": "IEIjTayAO6Oi"
      },
      "source": [
        "# "
      ]
    },
    {
      "cell_type": "markdown",
      "metadata": {
        "id": "O2rhPXb4nRFA"
      },
      "source": [
        "### Q 2.10  Effect of learning rate decay "
      ]
    },
    {
      "cell_type": "markdown",
      "metadata": {
        "id": "VDqvgBeptLpD"
      },
      "source": [
        "#### Here you need to change the training loop to have one additional operation - add the scheduler step at the end of each epoch. Experiment with different learning rate schedulers provided by pytorch. Report results using atleast StepLR. "
      ]
    },
    {
      "cell_type": "code",
      "metadata": {
        "id": "DoDm84bvtbYK"
      },
      "source": [
        "from torch.optim.lr_scheduler import StepLR\n",
        "from torch.optim.lr_scheduler import CyclicLR\n",
        "from torch.optim.lr_scheduler import CosineAnnealingLR\n",
        "from torch.optim.lr_scheduler import MultiplicativeLR\n"
      ],
      "execution_count": null,
      "outputs": []
    },
    {
      "cell_type": "code",
      "metadata": {
        "id": "nbGSCk4N57qX"
      },
      "source": [
        "def train_loop2(model, criterion, optimizer,  train_loader, val_loader,n_epoch, g = 0):\n",
        "    \"\"\"\n",
        "    Generic training loop\n",
        "\n",
        "    Parameters\n",
        "    ----------\n",
        "    model : Object instance of your model class \n",
        "    criterion : Loss function \n",
        "    optimizer : Instance of optimizer class of your choice \n",
        "    train_loader : Training data loader \n",
        "    val_loader : Validation data loader\n",
        "\n",
        "    Returns\n",
        "    -------\n",
        "    train_losses : List with train loss on dataset per epoch\n",
        "    train_accuracies : List with train accuracy on dataset per epoch\n",
        "    val_losses : List with validation loss on dataset per epoch\n",
        "    val_accuracies : List with validation accuracy on dataset per epoch\n",
        "\n",
        "    \"\"\"\n",
        "    best_val = 0.0\n",
        "    train_losses = []\n",
        "    val_losses = []\n",
        "    train_accuracies = []\n",
        "    val_accuracies = []\n",
        "    max_patience = 100\n",
        "    patience_counter = 0\n",
        "    \n",
        "    \n",
        "    #scheduler = CyclicLR(optimizer, base_lr=0.008, max_lr= 0.12)\n",
        "    #scheduler = StepLR(optimizer, step_size=1, gamma=0.98)\n",
        "    if g == 0:\n",
        "      scheduler = CosineAnnealingLR (optimizer, T_max = 10  ) \n",
        "    else:\n",
        "      scheduler = StepLR(optimizer, step_size=10, gamma=g)\n",
        "      print (f'use Step LR scheduler ! gamma = {g}')\n",
        "      \n",
        "\n",
        "    # Training\n",
        "    for t in tqdm(range(n_epoch)):\n",
        "\n",
        "      epoch_t_acc = 0.0 \n",
        "      epoch_t_loss = 0.0\n",
        "\n",
        "      # TODO : Set the model to train mode\n",
        "      #model.to(device)       \n",
        "      model.train()\n",
        "      # TODO: Loop over the training set\n",
        "      for train_data, targets in train_loader:\n",
        "        # TODO: Put the inputs and targets on the write device\n",
        "        train_data = train_data.to(device)\n",
        "        targets = targets.to (device)\n",
        "        # TODO: Feed forward to get the logits\n",
        "        y_pred = model.forward(train_data)\n",
        "        score, predicted = torch.max(y_pred, 1)\n",
        "        \n",
        "        # TODO: Compute the loss and accuracy\n",
        "\n",
        "        loss = criterion ( y_pred,targets) \n",
        "        # TODO: zero the gradients before running\n",
        "        # the backward pass.\n",
        "        optimizer.zero_grad()\n",
        "        # TODO: Backward pass to compute the gradient\n",
        "        # of loss w.r.t our learnable params. \n",
        "        loss.backward()\n",
        "        # TODO: Update params\n",
        "        optimizer.step()\n",
        "        # TODO: Keep track of accuracy and loss\n",
        "        train_accuracy = (targets == predicted).sum().float() / len(targets)\n",
        "\n",
        "        epoch_t_acc += train_accuracy\n",
        "        epoch_t_loss += loss.item()\n",
        "\n",
        "      train_losses.append(epoch_t_loss/len(train_loader))\n",
        "      train_accuracies.append(epoch_t_acc/len(train_loader))\n",
        "\n",
        "        # TODO: Switch the model to eval mode\n",
        "      model.eval()\n",
        "\n",
        "      v_acc = 0\n",
        "      v_loss = 0  \n",
        "      with torch.no_grad():\n",
        "          # TODO: Loop over the validation set \n",
        "          for val_data, targets in val_loader:\n",
        "              # TODO: Put the inputs and targets on the write device\n",
        "              val_data = val_data.to(device)\n",
        "              targets = targets.to(device)\n",
        "              # TODO: Feed forward to get the logits\n",
        "              y_pred_val = model (val_data)\n",
        "              score, predicted = torch.max(y_pred_val, 1)\n",
        "              # TODO: Compute the loss and accuracy\n",
        "              loss_val = criterion ( y_pred_val,targets)\n",
        "              accuracy_val = (targets == predicted).sum().float() / len(targets)\n",
        "              # TODO: Keep track of accuracy and loss\n",
        "              v_acc += accuracy_val\n",
        "              v_loss += loss_val\n",
        "\n",
        "      val_losses.append(v_loss/len(val_loader))\n",
        "      val_accuracies.append(v_acc/len(val_loader))\n",
        "\n",
        "      if val_accuracies[-1] > best_val:\n",
        "        best_val = val_accuracies[-1]\n",
        "        patience_counter = 0\n",
        "\n",
        "        # TODO: Save best model, optimizer, epoch_number\n",
        "        torch.save({\n",
        "                    'model': model.state_dict(),\n",
        "                    'optimizer': optimizer.state_dict(),\n",
        "                    'epoch': t,\n",
        "                }, '/content/drive/My Drive/Colab Notebooks/checkpoint.pth')\n",
        "      else:\n",
        "        patience_counter += 1    \n",
        "        if patience_counter > max_patience: \n",
        "          break\n",
        "\n",
        "      print(\"[EPOCH]: %i, [TRAIN LOSS]: %.6f, [TRAIN ACCURACY]: %.3f\" % (t, train_losses[-1], train_accuracies[-1]))\n",
        "      print(\"[EPOCH]: %i, [VAL LOSS]: %.6f, [VAL ACCURACY]: %.3f \\n\" % (t, val_losses[-1] ,val_accuracies[-1]))\n",
        "\n",
        "    return train_losses, train_accuracies, val_losses, val_accuracies"
      ],
      "execution_count": null,
      "outputs": []
    },
    {
      "cell_type": "markdown",
      "metadata": {
        "id": "ztI_M9xFa9wJ"
      },
      "source": [
        "I use the 'cosine annealing scheduler', ***CosineAnnealingLR***,  which changes learning rate periodically "
      ]
    },
    {
      "cell_type": "code",
      "metadata": {
        "id": "bK1P1aU0sbJn",
        "outputId": "430ca83a-a4ff-4c51-825f-6d7046896cfd",
        "colab": {
          "base_uri": "https://localhost:8080/",
          "height": 1000,
          "referenced_widgets": [
            "83dd88282e734b71b32885738bddd4ca",
            "825dfc8426654d489c11c89375403ac0",
            "5b059ba2ba924b9fb31cabd3ec715dc5",
            "61d0a92bc17c4e7b905ec7848c956fa3",
            "a75fd8c1b3184dda82f2a396323cf7f4",
            "2a20cd8dc4cf4ea28907c7c00271f146",
            "879b315b6a22492ababa75d2f4d901e6",
            "91a085f36810411886561ebed56fcbf6"
          ]
        }
      },
      "source": [
        "# TODO : Initialize the model and cast to correct device\n",
        "model = ResidualConvnet(input_channels =3, num_classes = 10)\n",
        "model.to(device)\n",
        "# TODO : Initialize the criterion\n",
        "criterion = torch.nn.CrossEntropyLoss()\n",
        "# TODO : Initialize the Adam optimizer with lr 1e-4\n",
        "\n",
        "optimizer = torch.optim.Adam(model.parameters(), lr=1e-4) \n",
        "#optimizer = torch.optim.SGD(model.parameters(), lr=1e-3) \n",
        "\n",
        "# TODO : Run the training loop using this model\n",
        "train_losses, train_accuracies, val_losses,val_acc = train_loop2(model, criterion, optimizer,  train_loader, val_loader,100)\n",
        "\n",
        "import numpy as np\n",
        "np.save ('/content/drive/My Drive/Colab Notebooks/train_loss_learning_rate', train_losses)\n",
        "np.save ('/content/drive/My Drive/Colab Notebooks/train_acc_learning_rate', train_accuracies)\n",
        "np.save ('/content/drive/My Drive/Colab Notebooks/val_loss_learning_rate', val_losses)\n",
        "np.save ('/content/drive/My Drive/Colab Notebooks/val_acc_learning_rate', val_acc)"
      ],
      "execution_count": null,
      "outputs": [
        {
          "output_type": "display_data",
          "data": {
            "application/vnd.jupyter.widget-view+json": {
              "model_id": "83dd88282e734b71b32885738bddd4ca",
              "version_minor": 0,
              "version_major": 2
            },
            "text/plain": [
              "HBox(children=(FloatProgress(value=0.0), HTML(value='')))"
            ]
          },
          "metadata": {
            "tags": []
          }
        },
        {
          "output_type": "stream",
          "text": [
            "[EPOCH]: 0, [TRAIN LOSS]: 1.452441, [TRAIN ACCURACY]: 0.477\n",
            "[EPOCH]: 0, [VAL LOSS]: 1.152514, [VAL ACCURACY]: 0.597 \n",
            "\n",
            "[EPOCH]: 1, [TRAIN LOSS]: 1.021599, [TRAIN ACCURACY]: 0.641\n",
            "[EPOCH]: 1, [VAL LOSS]: 0.907208, [VAL ACCURACY]: 0.683 \n",
            "\n",
            "[EPOCH]: 2, [TRAIN LOSS]: 0.842696, [TRAIN ACCURACY]: 0.707\n",
            "[EPOCH]: 2, [VAL LOSS]: 0.787722, [VAL ACCURACY]: 0.726 \n",
            "\n",
            "[EPOCH]: 3, [TRAIN LOSS]: 0.714066, [TRAIN ACCURACY]: 0.753\n",
            "[EPOCH]: 3, [VAL LOSS]: 0.689973, [VAL ACCURACY]: 0.761 \n",
            "\n",
            "[EPOCH]: 4, [TRAIN LOSS]: 0.626379, [TRAIN ACCURACY]: 0.785\n",
            "[EPOCH]: 4, [VAL LOSS]: 0.644423, [VAL ACCURACY]: 0.776 \n",
            "\n",
            "[EPOCH]: 5, [TRAIN LOSS]: 0.558245, [TRAIN ACCURACY]: 0.810\n",
            "[EPOCH]: 5, [VAL LOSS]: 0.596554, [VAL ACCURACY]: 0.794 \n",
            "\n",
            "[EPOCH]: 6, [TRAIN LOSS]: 0.500515, [TRAIN ACCURACY]: 0.828\n",
            "[EPOCH]: 6, [VAL LOSS]: 0.554425, [VAL ACCURACY]: 0.813 \n",
            "\n",
            "[EPOCH]: 7, [TRAIN LOSS]: 0.454677, [TRAIN ACCURACY]: 0.844\n",
            "[EPOCH]: 7, [VAL LOSS]: 0.530911, [VAL ACCURACY]: 0.818 \n",
            "\n",
            "[EPOCH]: 8, [TRAIN LOSS]: 0.417344, [TRAIN ACCURACY]: 0.859\n",
            "[EPOCH]: 8, [VAL LOSS]: 0.508005, [VAL ACCURACY]: 0.826 \n",
            "\n",
            "[EPOCH]: 9, [TRAIN LOSS]: 0.381947, [TRAIN ACCURACY]: 0.871\n",
            "[EPOCH]: 9, [VAL LOSS]: 0.489451, [VAL ACCURACY]: 0.829 \n",
            "\n",
            "[EPOCH]: 10, [TRAIN LOSS]: 0.351661, [TRAIN ACCURACY]: 0.881\n",
            "[EPOCH]: 10, [VAL LOSS]: 0.481269, [VAL ACCURACY]: 0.833 \n",
            "\n",
            "[EPOCH]: 11, [TRAIN LOSS]: 0.315625, [TRAIN ACCURACY]: 0.893\n",
            "[EPOCH]: 11, [VAL LOSS]: 0.463244, [VAL ACCURACY]: 0.842 \n",
            "\n",
            "[EPOCH]: 12, [TRAIN LOSS]: 0.292705, [TRAIN ACCURACY]: 0.901\n",
            "[EPOCH]: 12, [VAL LOSS]: 0.466258, [VAL ACCURACY]: 0.844 \n",
            "\n",
            "[EPOCH]: 13, [TRAIN LOSS]: 0.267703, [TRAIN ACCURACY]: 0.911\n",
            "[EPOCH]: 13, [VAL LOSS]: 0.438948, [VAL ACCURACY]: 0.851 \n",
            "\n",
            "[EPOCH]: 14, [TRAIN LOSS]: 0.249888, [TRAIN ACCURACY]: 0.916\n",
            "[EPOCH]: 14, [VAL LOSS]: 0.440007, [VAL ACCURACY]: 0.852 \n",
            "\n",
            "[EPOCH]: 15, [TRAIN LOSS]: 0.224884, [TRAIN ACCURACY]: 0.926\n",
            "[EPOCH]: 15, [VAL LOSS]: 0.445963, [VAL ACCURACY]: 0.853 \n",
            "\n",
            "[EPOCH]: 16, [TRAIN LOSS]: 0.204799, [TRAIN ACCURACY]: 0.932\n",
            "[EPOCH]: 16, [VAL LOSS]: 0.425475, [VAL ACCURACY]: 0.857 \n",
            "\n",
            "[EPOCH]: 17, [TRAIN LOSS]: 0.188030, [TRAIN ACCURACY]: 0.937\n",
            "[EPOCH]: 17, [VAL LOSS]: 0.444404, [VAL ACCURACY]: 0.852 \n",
            "\n",
            "[EPOCH]: 18, [TRAIN LOSS]: 0.177843, [TRAIN ACCURACY]: 0.941\n",
            "[EPOCH]: 18, [VAL LOSS]: 0.436135, [VAL ACCURACY]: 0.859 \n",
            "\n",
            "[EPOCH]: 19, [TRAIN LOSS]: 0.160059, [TRAIN ACCURACY]: 0.947\n",
            "[EPOCH]: 19, [VAL LOSS]: 0.424212, [VAL ACCURACY]: 0.863 \n",
            "\n",
            "[EPOCH]: 20, [TRAIN LOSS]: 0.143926, [TRAIN ACCURACY]: 0.952\n",
            "[EPOCH]: 20, [VAL LOSS]: 0.406652, [VAL ACCURACY]: 0.871 \n",
            "\n",
            "[EPOCH]: 21, [TRAIN LOSS]: 0.136525, [TRAIN ACCURACY]: 0.955\n",
            "[EPOCH]: 21, [VAL LOSS]: 0.436283, [VAL ACCURACY]: 0.862 \n",
            "\n",
            "[EPOCH]: 22, [TRAIN LOSS]: 0.122619, [TRAIN ACCURACY]: 0.961\n",
            "[EPOCH]: 22, [VAL LOSS]: 0.440502, [VAL ACCURACY]: 0.866 \n",
            "\n",
            "[EPOCH]: 23, [TRAIN LOSS]: 0.117827, [TRAIN ACCURACY]: 0.961\n",
            "[EPOCH]: 23, [VAL LOSS]: 0.460595, [VAL ACCURACY]: 0.868 \n",
            "\n",
            "[EPOCH]: 24, [TRAIN LOSS]: 0.109342, [TRAIN ACCURACY]: 0.964\n",
            "[EPOCH]: 24, [VAL LOSS]: 0.444921, [VAL ACCURACY]: 0.866 \n",
            "\n",
            "[EPOCH]: 25, [TRAIN LOSS]: 0.103261, [TRAIN ACCURACY]: 0.966\n",
            "[EPOCH]: 25, [VAL LOSS]: 0.450263, [VAL ACCURACY]: 0.867 \n",
            "\n",
            "[EPOCH]: 26, [TRAIN LOSS]: 0.095471, [TRAIN ACCURACY]: 0.969\n",
            "[EPOCH]: 26, [VAL LOSS]: 0.448431, [VAL ACCURACY]: 0.868 \n",
            "\n",
            "[EPOCH]: 27, [TRAIN LOSS]: 0.088432, [TRAIN ACCURACY]: 0.972\n",
            "[EPOCH]: 27, [VAL LOSS]: 0.439831, [VAL ACCURACY]: 0.875 \n",
            "\n",
            "[EPOCH]: 28, [TRAIN LOSS]: 0.078624, [TRAIN ACCURACY]: 0.974\n",
            "[EPOCH]: 28, [VAL LOSS]: 0.445656, [VAL ACCURACY]: 0.869 \n",
            "\n",
            "[EPOCH]: 29, [TRAIN LOSS]: 0.075328, [TRAIN ACCURACY]: 0.976\n",
            "[EPOCH]: 29, [VAL LOSS]: 0.450932, [VAL ACCURACY]: 0.872 \n",
            "\n",
            "[EPOCH]: 30, [TRAIN LOSS]: 0.076138, [TRAIN ACCURACY]: 0.975\n",
            "[EPOCH]: 30, [VAL LOSS]: 0.457359, [VAL ACCURACY]: 0.869 \n",
            "\n",
            "[EPOCH]: 31, [TRAIN LOSS]: 0.073677, [TRAIN ACCURACY]: 0.976\n",
            "[EPOCH]: 31, [VAL LOSS]: 0.456610, [VAL ACCURACY]: 0.872 \n",
            "\n",
            "[EPOCH]: 32, [TRAIN LOSS]: 0.067416, [TRAIN ACCURACY]: 0.979\n",
            "[EPOCH]: 32, [VAL LOSS]: 0.459056, [VAL ACCURACY]: 0.873 \n",
            "\n",
            "[EPOCH]: 33, [TRAIN LOSS]: 0.060639, [TRAIN ACCURACY]: 0.981\n",
            "[EPOCH]: 33, [VAL LOSS]: 0.482679, [VAL ACCURACY]: 0.869 \n",
            "\n",
            "[EPOCH]: 34, [TRAIN LOSS]: 0.061904, [TRAIN ACCURACY]: 0.979\n",
            "[EPOCH]: 34, [VAL LOSS]: 0.463284, [VAL ACCURACY]: 0.874 \n",
            "\n",
            "[EPOCH]: 35, [TRAIN LOSS]: 0.058630, [TRAIN ACCURACY]: 0.981\n",
            "[EPOCH]: 35, [VAL LOSS]: 0.470091, [VAL ACCURACY]: 0.877 \n",
            "\n",
            "[EPOCH]: 36, [TRAIN LOSS]: 0.054785, [TRAIN ACCURACY]: 0.982\n",
            "[EPOCH]: 36, [VAL LOSS]: 0.462036, [VAL ACCURACY]: 0.875 \n",
            "\n",
            "[EPOCH]: 37, [TRAIN LOSS]: 0.054760, [TRAIN ACCURACY]: 0.983\n",
            "[EPOCH]: 37, [VAL LOSS]: 0.477145, [VAL ACCURACY]: 0.876 \n",
            "\n",
            "[EPOCH]: 38, [TRAIN LOSS]: 0.052146, [TRAIN ACCURACY]: 0.983\n",
            "[EPOCH]: 38, [VAL LOSS]: 0.474293, [VAL ACCURACY]: 0.877 \n",
            "\n",
            "[EPOCH]: 39, [TRAIN LOSS]: 0.048045, [TRAIN ACCURACY]: 0.985\n",
            "[EPOCH]: 39, [VAL LOSS]: 0.467205, [VAL ACCURACY]: 0.876 \n",
            "\n",
            "[EPOCH]: 40, [TRAIN LOSS]: 0.049062, [TRAIN ACCURACY]: 0.984\n",
            "[EPOCH]: 40, [VAL LOSS]: 0.475199, [VAL ACCURACY]: 0.876 \n",
            "\n",
            "[EPOCH]: 41, [TRAIN LOSS]: 0.047568, [TRAIN ACCURACY]: 0.985\n",
            "[EPOCH]: 41, [VAL LOSS]: 0.524432, [VAL ACCURACY]: 0.868 \n",
            "\n",
            "[EPOCH]: 42, [TRAIN LOSS]: 0.047296, [TRAIN ACCURACY]: 0.986\n",
            "[EPOCH]: 42, [VAL LOSS]: 0.500217, [VAL ACCURACY]: 0.873 \n",
            "\n",
            "[EPOCH]: 43, [TRAIN LOSS]: 0.046353, [TRAIN ACCURACY]: 0.986\n",
            "[EPOCH]: 43, [VAL LOSS]: 0.501507, [VAL ACCURACY]: 0.872 \n",
            "\n",
            "[EPOCH]: 44, [TRAIN LOSS]: 0.040782, [TRAIN ACCURACY]: 0.987\n",
            "[EPOCH]: 44, [VAL LOSS]: 0.497496, [VAL ACCURACY]: 0.873 \n",
            "\n",
            "[EPOCH]: 45, [TRAIN LOSS]: 0.043075, [TRAIN ACCURACY]: 0.986\n",
            "[EPOCH]: 45, [VAL LOSS]: 0.475502, [VAL ACCURACY]: 0.879 \n",
            "\n",
            "[EPOCH]: 46, [TRAIN LOSS]: 0.040682, [TRAIN ACCURACY]: 0.987\n",
            "[EPOCH]: 46, [VAL LOSS]: 0.480858, [VAL ACCURACY]: 0.879 \n",
            "\n",
            "[EPOCH]: 47, [TRAIN LOSS]: 0.040931, [TRAIN ACCURACY]: 0.986\n",
            "[EPOCH]: 47, [VAL LOSS]: 0.501943, [VAL ACCURACY]: 0.877 \n",
            "\n",
            "[EPOCH]: 48, [TRAIN LOSS]: 0.036437, [TRAIN ACCURACY]: 0.988\n",
            "[EPOCH]: 48, [VAL LOSS]: 0.489624, [VAL ACCURACY]: 0.877 \n",
            "\n",
            "[EPOCH]: 49, [TRAIN LOSS]: 0.035775, [TRAIN ACCURACY]: 0.989\n",
            "[EPOCH]: 49, [VAL LOSS]: 0.509715, [VAL ACCURACY]: 0.879 \n",
            "\n",
            "[EPOCH]: 50, [TRAIN LOSS]: 0.034335, [TRAIN ACCURACY]: 0.989\n",
            "[EPOCH]: 50, [VAL LOSS]: 0.491417, [VAL ACCURACY]: 0.881 \n",
            "\n",
            "[EPOCH]: 51, [TRAIN LOSS]: 0.037983, [TRAIN ACCURACY]: 0.988\n",
            "[EPOCH]: 51, [VAL LOSS]: 0.494995, [VAL ACCURACY]: 0.879 \n",
            "\n",
            "[EPOCH]: 52, [TRAIN LOSS]: 0.035658, [TRAIN ACCURACY]: 0.989\n",
            "[EPOCH]: 52, [VAL LOSS]: 0.510421, [VAL ACCURACY]: 0.875 \n",
            "\n",
            "[EPOCH]: 53, [TRAIN LOSS]: 0.037135, [TRAIN ACCURACY]: 0.988\n",
            "[EPOCH]: 53, [VAL LOSS]: 0.502934, [VAL ACCURACY]: 0.876 \n",
            "\n",
            "[EPOCH]: 54, [TRAIN LOSS]: 0.033746, [TRAIN ACCURACY]: 0.989\n",
            "[EPOCH]: 54, [VAL LOSS]: 0.497317, [VAL ACCURACY]: 0.884 \n",
            "\n",
            "[EPOCH]: 55, [TRAIN LOSS]: 0.030370, [TRAIN ACCURACY]: 0.991\n",
            "[EPOCH]: 55, [VAL LOSS]: 0.489932, [VAL ACCURACY]: 0.885 \n",
            "\n",
            "[EPOCH]: 56, [TRAIN LOSS]: 0.028610, [TRAIN ACCURACY]: 0.991\n",
            "[EPOCH]: 56, [VAL LOSS]: 0.496916, [VAL ACCURACY]: 0.880 \n",
            "\n",
            "[EPOCH]: 57, [TRAIN LOSS]: 0.033054, [TRAIN ACCURACY]: 0.989\n",
            "[EPOCH]: 57, [VAL LOSS]: 0.498191, [VAL ACCURACY]: 0.879 \n",
            "\n",
            "[EPOCH]: 58, [TRAIN LOSS]: 0.033753, [TRAIN ACCURACY]: 0.989\n",
            "[EPOCH]: 58, [VAL LOSS]: 0.506806, [VAL ACCURACY]: 0.879 \n",
            "\n",
            "[EPOCH]: 59, [TRAIN LOSS]: 0.029734, [TRAIN ACCURACY]: 0.991\n",
            "[EPOCH]: 59, [VAL LOSS]: 0.473427, [VAL ACCURACY]: 0.888 \n",
            "\n",
            "[EPOCH]: 60, [TRAIN LOSS]: 0.030560, [TRAIN ACCURACY]: 0.991\n",
            "[EPOCH]: 60, [VAL LOSS]: 0.498716, [VAL ACCURACY]: 0.884 \n",
            "\n",
            "[EPOCH]: 61, [TRAIN LOSS]: 0.030475, [TRAIN ACCURACY]: 0.990\n",
            "[EPOCH]: 61, [VAL LOSS]: 0.495306, [VAL ACCURACY]: 0.884 \n",
            "\n",
            "[EPOCH]: 62, [TRAIN LOSS]: 0.025476, [TRAIN ACCURACY]: 0.992\n",
            "[EPOCH]: 62, [VAL LOSS]: 0.491988, [VAL ACCURACY]: 0.886 \n",
            "\n",
            "[EPOCH]: 63, [TRAIN LOSS]: 0.023329, [TRAIN ACCURACY]: 0.992\n",
            "[EPOCH]: 63, [VAL LOSS]: 0.505241, [VAL ACCURACY]: 0.886 \n",
            "\n",
            "[EPOCH]: 64, [TRAIN LOSS]: 0.027984, [TRAIN ACCURACY]: 0.991\n",
            "[EPOCH]: 64, [VAL LOSS]: 0.506810, [VAL ACCURACY]: 0.883 \n",
            "\n",
            "[EPOCH]: 65, [TRAIN LOSS]: 0.027834, [TRAIN ACCURACY]: 0.991\n",
            "[EPOCH]: 65, [VAL LOSS]: 0.468101, [VAL ACCURACY]: 0.890 \n",
            "\n",
            "[EPOCH]: 66, [TRAIN LOSS]: 0.029983, [TRAIN ACCURACY]: 0.990\n",
            "[EPOCH]: 66, [VAL LOSS]: 0.529114, [VAL ACCURACY]: 0.879 \n",
            "\n",
            "[EPOCH]: 67, [TRAIN LOSS]: 0.031411, [TRAIN ACCURACY]: 0.990\n",
            "[EPOCH]: 67, [VAL LOSS]: 0.501980, [VAL ACCURACY]: 0.885 \n",
            "\n",
            "[EPOCH]: 68, [TRAIN LOSS]: 0.023403, [TRAIN ACCURACY]: 0.993\n",
            "[EPOCH]: 68, [VAL LOSS]: 0.500158, [VAL ACCURACY]: 0.890 \n",
            "\n",
            "[EPOCH]: 69, [TRAIN LOSS]: 0.027797, [TRAIN ACCURACY]: 0.991\n",
            "[EPOCH]: 69, [VAL LOSS]: 0.474769, [VAL ACCURACY]: 0.887 \n",
            "\n",
            "[EPOCH]: 70, [TRAIN LOSS]: 0.021779, [TRAIN ACCURACY]: 0.993\n",
            "[EPOCH]: 70, [VAL LOSS]: 0.499960, [VAL ACCURACY]: 0.887 \n",
            "\n",
            "[EPOCH]: 71, [TRAIN LOSS]: 0.025555, [TRAIN ACCURACY]: 0.991\n",
            "[EPOCH]: 71, [VAL LOSS]: 0.522209, [VAL ACCURACY]: 0.882 \n",
            "\n",
            "[EPOCH]: 72, [TRAIN LOSS]: 0.022761, [TRAIN ACCURACY]: 0.993\n",
            "[EPOCH]: 72, [VAL LOSS]: 0.530101, [VAL ACCURACY]: 0.884 \n",
            "\n",
            "[EPOCH]: 74, [TRAIN LOSS]: 0.025912, [TRAIN ACCURACY]: 0.992\n",
            "[EPOCH]: 74, [VAL LOSS]: 0.515779, [VAL ACCURACY]: 0.884 \n",
            "\n",
            "[EPOCH]: 75, [TRAIN LOSS]: 0.024078, [TRAIN ACCURACY]: 0.992\n",
            "[EPOCH]: 75, [VAL LOSS]: 0.511539, [VAL ACCURACY]: 0.885 \n",
            "\n",
            "[EPOCH]: 76, [TRAIN LOSS]: 0.023200, [TRAIN ACCURACY]: 0.993\n",
            "[EPOCH]: 76, [VAL LOSS]: 0.510631, [VAL ACCURACY]: 0.888 \n",
            "\n",
            "[EPOCH]: 77, [TRAIN LOSS]: 0.022148, [TRAIN ACCURACY]: 0.993\n",
            "[EPOCH]: 77, [VAL LOSS]: 0.515622, [VAL ACCURACY]: 0.884 \n",
            "\n",
            "[EPOCH]: 78, [TRAIN LOSS]: 0.019997, [TRAIN ACCURACY]: 0.994\n",
            "[EPOCH]: 78, [VAL LOSS]: 0.489237, [VAL ACCURACY]: 0.891 \n",
            "\n",
            "[EPOCH]: 79, [TRAIN LOSS]: 0.019096, [TRAIN ACCURACY]: 0.994\n",
            "[EPOCH]: 79, [VAL LOSS]: 0.514660, [VAL ACCURACY]: 0.888 \n",
            "\n",
            "[EPOCH]: 80, [TRAIN LOSS]: 0.021043, [TRAIN ACCURACY]: 0.993\n",
            "[EPOCH]: 80, [VAL LOSS]: 0.523153, [VAL ACCURACY]: 0.888 \n",
            "\n",
            "[EPOCH]: 81, [TRAIN LOSS]: 0.024704, [TRAIN ACCURACY]: 0.992\n",
            "[EPOCH]: 81, [VAL LOSS]: 0.518279, [VAL ACCURACY]: 0.890 \n",
            "\n",
            "[EPOCH]: 82, [TRAIN LOSS]: 0.022719, [TRAIN ACCURACY]: 0.993\n",
            "[EPOCH]: 82, [VAL LOSS]: 0.522442, [VAL ACCURACY]: 0.885 \n",
            "\n",
            "[EPOCH]: 83, [TRAIN LOSS]: 0.022033, [TRAIN ACCURACY]: 0.993\n",
            "[EPOCH]: 83, [VAL LOSS]: 0.517433, [VAL ACCURACY]: 0.887 \n",
            "\n",
            "[EPOCH]: 84, [TRAIN LOSS]: 0.018944, [TRAIN ACCURACY]: 0.994\n",
            "[EPOCH]: 84, [VAL LOSS]: 0.506293, [VAL ACCURACY]: 0.889 \n",
            "\n",
            "[EPOCH]: 85, [TRAIN LOSS]: 0.020922, [TRAIN ACCURACY]: 0.993\n",
            "[EPOCH]: 85, [VAL LOSS]: 0.534332, [VAL ACCURACY]: 0.884 \n",
            "\n",
            "[EPOCH]: 86, [TRAIN LOSS]: 0.017838, [TRAIN ACCURACY]: 0.994\n",
            "[EPOCH]: 86, [VAL LOSS]: 0.521494, [VAL ACCURACY]: 0.889 \n",
            "\n",
            "[EPOCH]: 87, [TRAIN LOSS]: 0.020500, [TRAIN ACCURACY]: 0.993\n",
            "[EPOCH]: 87, [VAL LOSS]: 0.530841, [VAL ACCURACY]: 0.888 \n",
            "\n",
            "[EPOCH]: 88, [TRAIN LOSS]: 0.018557, [TRAIN ACCURACY]: 0.994\n",
            "[EPOCH]: 88, [VAL LOSS]: 0.516510, [VAL ACCURACY]: 0.886 \n",
            "\n",
            "[EPOCH]: 89, [TRAIN LOSS]: 0.022189, [TRAIN ACCURACY]: 0.993\n",
            "[EPOCH]: 89, [VAL LOSS]: 0.519508, [VAL ACCURACY]: 0.887 \n",
            "\n",
            "[EPOCH]: 90, [TRAIN LOSS]: 0.016811, [TRAIN ACCURACY]: 0.995\n",
            "[EPOCH]: 90, [VAL LOSS]: 0.533234, [VAL ACCURACY]: 0.885 \n",
            "\n",
            "[EPOCH]: 91, [TRAIN LOSS]: 0.019825, [TRAIN ACCURACY]: 0.994\n",
            "[EPOCH]: 91, [VAL LOSS]: 0.547552, [VAL ACCURACY]: 0.884 \n",
            "\n",
            "[EPOCH]: 92, [TRAIN LOSS]: 0.019622, [TRAIN ACCURACY]: 0.994\n",
            "[EPOCH]: 92, [VAL LOSS]: 0.530952, [VAL ACCURACY]: 0.888 \n",
            "\n",
            "[EPOCH]: 93, [TRAIN LOSS]: 0.018349, [TRAIN ACCURACY]: 0.994\n",
            "[EPOCH]: 93, [VAL LOSS]: 0.516074, [VAL ACCURACY]: 0.888 \n",
            "\n",
            "[EPOCH]: 94, [TRAIN LOSS]: 0.014881, [TRAIN ACCURACY]: 0.995\n",
            "[EPOCH]: 94, [VAL LOSS]: 0.540456, [VAL ACCURACY]: 0.886 \n",
            "\n",
            "[EPOCH]: 95, [TRAIN LOSS]: 0.018143, [TRAIN ACCURACY]: 0.994\n",
            "[EPOCH]: 95, [VAL LOSS]: 0.526854, [VAL ACCURACY]: 0.888 \n",
            "\n",
            "[EPOCH]: 96, [TRAIN LOSS]: 0.016952, [TRAIN ACCURACY]: 0.995\n",
            "[EPOCH]: 96, [VAL LOSS]: 0.521161, [VAL ACCURACY]: 0.893 \n",
            "\n",
            "[EPOCH]: 97, [TRAIN LOSS]: 0.014274, [TRAIN ACCURACY]: 0.996\n",
            "[EPOCH]: 97, [VAL LOSS]: 0.537652, [VAL ACCURACY]: 0.889 \n",
            "\n",
            "[EPOCH]: 98, [TRAIN LOSS]: 0.019191, [TRAIN ACCURACY]: 0.994\n",
            "[EPOCH]: 98, [VAL LOSS]: 0.552622, [VAL ACCURACY]: 0.885 \n",
            "\n",
            "[EPOCH]: 99, [TRAIN LOSS]: 0.016571, [TRAIN ACCURACY]: 0.995\n",
            "[EPOCH]: 99, [VAL LOSS]: 0.506839, [VAL ACCURACY]: 0.890 \n",
            "\n",
            "\n"
          ],
          "name": "stdout"
        }
      ]
    },
    {
      "cell_type": "code",
      "metadata": {
        "id": "bTT5TRWrnPPa",
        "outputId": "23564b9f-7782-4b87-c761-536ca22076e1",
        "colab": {
          "base_uri": "https://localhost:8080/",
          "height": 655
        }
      },
      "source": [
        "import numpy as np\n",
        "train_losses_lr = np.load ('/content/drive/My Drive/Colab Notebooks/train_loss_learning_rate.npy')\n",
        "train_accuracies_lr = np.load ('/content/drive/My Drive/Colab Notebooks/train_acc_learning_rate.npy', allow_pickle=True)\n",
        "val_losses_lr = np.load('/content/drive/My Drive/Colab Notebooks/val_loss_learning_rate.npy', allow_pickle= True)\n",
        "val_acc_lr = np.load ('/content/drive/My Drive/Colab Notebooks/val_acc_learning_rate.npy', allow_pickle= True)\n",
        "\n",
        "train_losses_rand_trans = np.load ('/content/drive/My Drive/Colab Notebooks/train_loss_rand_trans.npy')\n",
        "train_accuracies_rand_trans = np.load ('/content/drive/My Drive/Colab Notebooks/train_acc_rand_trans.npy', allow_pickle= True)\n",
        "val_losses_rand_trans = np.load ('/content/drive/My Drive/Colab Notebooks/val_loss_rand_trans.npy', allow_pickle= True)\n",
        "val_acc_rand_trans = np.load ('/content/drive/My Drive/Colab Notebooks/val_acc_rand_trans.npy', allow_pickle= True)\n",
        "\n",
        "plt.figure(1, figsize = (7,5))\n",
        "plt.plot (range(100),train_accuracies_lr[0:100], 'b',label = \"train accuracy with LR scheduler\")\n",
        "plt.plot (range(100),val_acc_lr[0:100],'b-*', label = \"validation accuracy with LR scheduler\")\n",
        "plt.plot (range(100),train_accuracies_rand_trans, 'r', label = \"train accuracy without LR scheduler\")\n",
        "plt.plot (range(100),val_acc_rand_trans, 'r-*',label = \"validation accuracy without LR scheduler\")\n",
        "plt.grid()\n",
        "plt.legend()\n",
        "plt.title (\"accuracies comparison\")\n",
        "plt.savefig('train_residual_comp.png')\n",
        "\n",
        "plt.figure (2, figsize=(7,5))\n",
        "plt.plot (range(100),train_losses_lr[0:100], 'b' , label = \"train loss with LR scheduler\")\n",
        "plt.plot (range(100),val_losses_lr[0:100] , 'b-*', label = \"validation loss with LR scheduler\")\n",
        "plt.plot (range(100),train_losses_rand_trans , 'r' , label = \"train loss without LR scheduler\")\n",
        "plt.plot (range(100),val_losses_rand_trans , 'r-*', label = \"validation loss without LR scheduler\")\n",
        "plt.grid()\n",
        "plt.legend()\n",
        "plt.title (\"loss comparison\")\n",
        "plt.savefig('loss_residual_comp.png')\n",
        "\n"
      ],
      "execution_count": null,
      "outputs": [
        {
          "output_type": "display_data",
          "data": {
            "image/png": "[encoded data removed]",
            "text/plain": [
              "<Figure size 504x360 with 1 Axes>"
            ]
          },
          "metadata": {
            "tags": [],
            "needs_background": "light"
          }
        },
        {
          "output_type": "display_data",
          "data": {
            "image/png": "[encoded data removed]",
            "text/plain": [
              "<Figure size 504x360 with 1 Axes>"
            ]
          },
          "metadata": {
            "tags": [],
            "needs_background": "light"
          }
        }
      ]
    },
    {
      "cell_type": "markdown",
      "metadata": {
        "id": "CW2RVgQMbhwd"
      },
      "source": [
        "In the figures the valication accuracy and loss curve of using LR scheduler shows better performance than the case without using LR scheduler. Thus, using the scheduler of learning rate improves the performance a little bit more. \n",
        "\n"
      ]
    },
    {
      "cell_type": "markdown",
      "metadata": {
        "id": "cG8bhd5V97iJ"
      },
      "source": [
        "### Q2.11 Hyper parameter tuning \n"
      ]
    },
    {
      "cell_type": "markdown",
      "metadata": {
        "id": "G05PHYHJ-DF2"
      },
      "source": [
        "#### Experiment with a range of learning rates and optimizers, as well as the parameter in the learning rate scheduler for StepLR. Report the following plots: \n",
        "\n",
        "1. Learning curves (training and validation loss for 5 different learning rate with SGD optimizer)\n",
        "2. Learning curves (training and validation loss for 5 different learning rate with Adam optimizer)\n",
        "3. Learning curves (training and validation loss for 5 different gamma parameter for the StepLR)\n",
        "\n",
        "\n",
        "\n"
      ]
    },
    {
      "cell_type": "code",
      "metadata": {
        "id": "P1z4HCHnO4iF"
      },
      "source": [
        "# TODO : Initialize the model and cast to correct device\n",
        "import numpy as np\n",
        "def run_model(running_list,name, opt_type = 'Adam', scheduler = False):\n",
        "  if scheduler == True:\n",
        "    for i, g in enumerate(running_list):\n",
        "      \n",
        "      model = ResidualConvnet(input_channels =3, num_classes = 10)\n",
        "      model.to(device)\n",
        "      # TODO : Initialize the criterion\n",
        "      criterion = torch.nn.CrossEntropyLoss()\n",
        "      # TODO : Initialize the Adam optimizer with lr 1e-4\n",
        "      optimizer = torch.optim.Adam(model.parameters(), lr=1e-4) \n",
        "      train_losses, train_accuracies, val_losses,val_acc = train_loop2(model, criterion, optimizer,  train_loader, val_loader,100, g)\n",
        "      np.save ('/content/drive/My Drive/Colab Notebooks/train_loss_learning_rate_StepLR_'+ name[i], train_losses)\n",
        "      np.save ('/content/drive/My Drive/Colab Notebooks/train_acc_learning_rate_StepLR_'+name[i], train_accuracies)\n",
        "      np.save ('/content/drive/My Drive/Colab Notebooks/val_loss_learning_rate_StepLR_'+name[i], val_losses)\n",
        "      np.save ('/content/drive/My Drive/Colab Notebooks/val_acc_learning_rate_StepLR_'+ name[i], val_acc)\n",
        "  else:\n",
        "    for i, lr in enumerate(running_list):\n",
        "      model = ResidualConvnet(input_channels =3, num_classes = 10)\n",
        "      model.to(device)\n",
        "      # TODO : Initialize the criterion\n",
        "      criterion = torch.nn.CrossEntropyLoss()\n",
        "      # TODO : Initialize the Adam optimizer with lr 1e-4\n",
        "\n",
        "      if opt_type == 'Adam':\n",
        "        optimizer = torch.optim.Adam(model.parameters(), lr=lr) \n",
        "      else:\n",
        "        optimizer = torch.optim.SGD(model.parameters(), lr=lr) \n",
        "\n",
        "      # TODO : Run the training loop using this model\n",
        "      # use cosine annealing scheduler\n",
        "      train_losses, train_accuracies, val_losses,val_acc = train_loop2(model, criterion, optimizer,  train_loader, val_loader,230)\n",
        "      if opt_type == 'Adam':\n",
        "        np.save ('/content/drive/My Drive/Colab Notebooks/train_loss_learning_rate_adam_'+ name[i], train_losses)\n",
        "        np.save ('/content/drive/My Drive/Colab Notebooks/train_acc_learning_rate_adam_'+name[i], train_accuracies)\n",
        "        np.save ('/content/drive/My Drive/Colab Notebooks/val_loss_learning_rate_adam_'+name[i], val_losses)\n",
        "        np.save ('/content/drive/My Drive/Colab Notebooks/val_acc_learning_rate_adam_'+ name[i], val_acc)\n",
        "      else:\n",
        "        np.save ('/content/drive/My Drive/Colab Notebooks/train_loss_learning_rate_'+ name[i], train_losses)\n",
        "        np.save ('/content/drive/My Drive/Colab Notebooks/train_acc_learning_rate_'+name[i], train_accuracies)\n",
        "        np.save ('/content/drive/My Drive/Colab Notebooks/val_loss_learning_rate_'+name[i], val_losses)\n",
        "        np.save ('/content/drive/My Drive/Colab Notebooks/val_acc_learning_rate_'+ name[i], val_acc)\n",
        "\n",
        "#running_list = [1e-3, 5e-4, 1e-4, 1e-5, 1e-6]\n",
        "#names = ['1_3', '5_4', '1_4', '1_5', '1_6']\n",
        "#run_model(running_list, names, opt_type = 'SGD')\n",
        "#run_model(running_list, names, opt_type = 'Adam')\n",
        "\n",
        "#running_list = [0.1, 0.75,1.1, 0.99, 0.5 ]\n",
        "#names = ['0_1', '07_5','1_1', '09_9', '0_5' ]\n",
        "#running_list = [0.99, 0.5, 0.1, 0.75]\n",
        "#names = [ '09_9', '0_5', '0_1', '07_5']\n",
        "\n",
        "running_list = [ 0.01, 0.001, 0.0005]\n",
        "names = [ '0_01', '0_001', '0_0005']\n",
        "\n",
        "run_model(running_list, names, opt_type = 'Adam', scheduler = True)\n"
      ],
      "execution_count": null,
      "outputs": []
    },
    {
      "cell_type": "code",
      "metadata": {
        "id": "Dvaq9jxztmiU"
      },
      "source": [
        "\n",
        "def plotting (sub_name_acc, sub_name_loss, name , label):\n",
        "\n",
        "  plt.figure(1, figsize=(7,5))\n",
        "  for i, s in enumerate(name):\n",
        "    filename = '/content/drive/My Drive/Colab Notebooks/' +sub_name_acc + s + '.npy'\n",
        "    train_loss = np.load (filename, allow_pickle= True)\n",
        "    #plt.yscale('log')\n",
        "    plt.plot ( train_loss,label= 'lr='+label[i] )\n",
        "  plt.grid()\n",
        "  plt.legend()\n",
        "  plt.title ('train loss')\n",
        "\n",
        "  plt.figure (2,figsize = (7,5))\n",
        "  for i, s in enumerate(name):\n",
        "    filename = '/content/drive/My Drive/Colab Notebooks/'+ sub_name_loss + s + '.npy'\n",
        "    train_loss = np.load (filename, allow_pickle= True)\n",
        "    #plt.yscale('log')\n",
        "    plt.plot ( train_loss,label= 'lr='+label[i] )\n",
        "  plt.grid()\n",
        "  plt.legend()\n",
        "  plt.title ('validation loss')\n"
      ],
      "execution_count": null,
      "outputs": []
    },
    {
      "cell_type": "code",
      "metadata": {
        "id": "JyaYc3PQOEb3",
        "outputId": "ac065d3c-95ca-4083-9c70-ce8801b466b4",
        "colab": {
          "base_uri": "https://localhost:8080/",
          "height": 655
        }
      },
      "source": [
        "name = ['1_3','5_4','1_4', '1_5','1_6']\n",
        "label = ['1e-3','5e-4', '1e-4',  '1e-5', '1e-6']\n",
        "# 1. Learning curves (training and validation loss for 5 different learning rate with SGD optimizer)\n",
        "plotting ('train_loss_learning_rate_', 'val_loss_learning_rate_', name, label)"
      ],
      "execution_count": null,
      "outputs": [
        {
          "output_type": "display_data",
          "data": {
            "image/png": "[encoded data removed]",
            "text/plain": [
              "<Figure size 504x360 with 1 Axes>"
            ]
          },
          "metadata": {
            "tags": [],
            "needs_background": "light"
          }
        },
        {
          "output_type": "display_data",
          "data": {
            "image/png": "[encoded data removed]",
            "text/plain": [
              "<Figure size 504x360 with 1 Axes>"
            ]
          },
          "metadata": {
            "tags": [],
            "needs_background": "light"
          }
        }
      ]
    },
    {
      "cell_type": "code",
      "metadata": {
        "id": "5U-dUOZqIh4I",
        "outputId": "abd0d4f7-4485-4511-c2f0-ca1b9c0cfb3c",
        "colab": {
          "base_uri": "https://localhost:8080/",
          "height": 655
        }
      },
      "source": [
        "# 2. Learning curves (training and validation loss for 5 different learning rate with Adam optimizer)\n",
        "plotting ('train_loss_learning_rate_adam_', 'val_loss_learning_rate_adam_', name , label)"
      ],
      "execution_count": null,
      "outputs": [
        {
          "output_type": "display_data",
          "data": {
            "image/png": "[encoded data removed]",
            "text/plain": [
              "<Figure size 504x360 with 1 Axes>"
            ]
          },
          "metadata": {
            "tags": [],
            "needs_background": "light"
          }
        },
        {
          "output_type": "display_data",
          "data": {
            "image/png": "[encoded data removed]",
            "text/plain": [
              "<Figure size 504x360 with 1 Axes>"
            ]
          },
          "metadata": {
            "tags": [],
            "needs_background": "light"
          }
        }
      ]
    },
    {
      "cell_type": "code",
      "metadata": {
        "id": "mcur5pauLfNW",
        "outputId": "ea46d589-54af-4b1d-9098-c4573b1247e9",
        "colab": {
          "base_uri": "https://localhost:8080/",
          "height": 655
        }
      },
      "source": [
        "# 3. Learning curves (training and validation loss for 5 different gamma parameter for the StepLR)\n",
        "#name = ['1_1','0_5','09_9', '07_5','0_1']\n",
        "#label = ['1.1','0.5', '0.99',  '0.75', '0.1']\n",
        "\n",
        "name = ['1_1','0_1','0_01','0_0005',\"0_0001\"]\n",
        "label = ['1.1','0.1', '0.01','0.0005','0.0001']\n",
        "plotting ('train_loss_learning_rate_StepLR_', 'val_loss_learning_rate_StepLR_', name, label)"
      ],
      "execution_count": null,
      "outputs": [
        {
          "output_type": "display_data",
          "data": {
            "image/png": "[encoded data removed]",
            "text/plain": [
              "<Figure size 504x360 with 1 Axes>"
            ]
          },
          "metadata": {
            "tags": [],
            "needs_background": "light"
          }
        },
        {
          "output_type": "display_data",
          "data": {
            "image/png": "[encoded data removed]",
            "text/plain": [
              "<Figure size 504x360 with 1 Axes>"
            ]
          },
          "metadata": {
            "tags": [],
            "needs_background": "light"
          }
        }
      ]
    },
    {
      "cell_type": "markdown",
      "metadata": {
        "id": "U7aTt9V68XF_"
      },
      "source": [
        "I set 'step_size' as 10 when using StepLR scheduler. I didn't observe performance enhancement by changing the value of learning rate. \n"
      ]
    },
    {
      "cell_type": "markdown",
      "metadata": {
        "id": "epKFlOaDgf3a"
      },
      "source": [
        "**final training using cosine annealing scheduler**"
      ]
    },
    {
      "cell_type": "code",
      "metadata": {
        "id": "KX48Vva2GL8-"
      },
      "source": [
        "\n",
        "# TODO : Initialize the model and cast to correct device\n",
        "model = ResidualConvnet(input_channels =3, num_classes = 10)\n",
        "model.to(device)\n",
        "# TODO : Initialize the criterion\n",
        "criterion = torch.nn.CrossEntropyLoss()\n",
        "\n",
        "\n",
        "optimizer = torch.optim.Adam(model.parameters(), lr=6e-4) \n",
        "#optimizer = torch.optim.Adam(model.parameters(), lr=1e-5) \n",
        "\n",
        "# TODO : Run the training loop using this model\n",
        "train_losses, train_accuracies, val_losses,val_acc = train_loop2(model, criterion, optimizer,  train_loader, val_loader,500)\n",
        "\n",
        "\n",
        "import numpy as np\n",
        "np.save ('/content/drive/My Drive/Colab Notebooks/train_loss_final', train_losses)\n",
        "np.save ('/content/drive/My Drive/Colab Notebooks/train_acc_final', train_accuracies)\n",
        "np.save ('/content/drive/My Drive/Colab Notebooks/val_loss_final', val_losses)\n",
        "np.save ('/content/drive/My Drive/Colab Notebooks/val_acc_final', val_acc)\n"
      ],
      "execution_count": null,
      "outputs": []
    },
    {
      "cell_type": "markdown",
      "metadata": {
        "id": "JiLexWP36qp6"
      },
      "source": [
        "### Q2.12 Load the model that gave you best validation accuracy and report results on the test set. "
      ]
    },
    {
      "cell_type": "code",
      "metadata": {
        "id": "Hz-m4xZU_nV8",
        "outputId": "d0636d23-85fe-411e-8e38-683e5ca33038",
        "colab": {
          "base_uri": "https://localhost:8080/",
          "height": 101,
          "referenced_widgets": [
            "9803c727684542cfa512a1f8fc9e7891",
            "f5b87e659e38421c93ab4a84752281e0",
            "e27c2223651246e4b1b428331d5019f3",
            "9e5328713f294c8e84038257f7ab0187",
            "96242f39985f40c3a2a67ee493b6cbd2",
            "fa82ca94b82e4410884bc36047eda47b",
            "55702a29c6544f3b964611197e05d04e",
            "aff788ea687f4ff3b9e7b1dc3c56c0f4"
          ]
        }
      },
      "source": [
        "model = ResidualConvnet(input_channels =3, num_classes = 10)\n",
        "\n",
        "model.load_state_dict(torch.load('/content/drive/My Drive/Colab Notebooks/checkpoint.pth')['model'])\n",
        "dictt  = torch.load('/content/drive/My Drive/Colab Notebooks/checkpoint.pth')\n",
        "n_epoch = dictt['epoch']\n",
        "print (f'number of epoch for training  {n_epoch}')\n",
        "model.eval()\n",
        "#print (model)\n",
        "test_accuracies = 0\n",
        "for test_data, targets in tqdm (test_loader):\n",
        "\n",
        "  y_pred = model.forward(test_data)\n",
        "  score, predicted = torch.max(y_pred, 1)\n",
        "  test_accuracy = (targets == predicted).sum().float() / len(targets)\n",
        "  test_accuracies += test_accuracy\n",
        "  #print(test_accuracy)\n",
        "\n",
        "print (f'average accuracy of test data is {test_accuracies.item()/len(test_loader)}')"
      ],
      "execution_count": null,
      "outputs": [
        {
          "output_type": "stream",
          "text": [
            "number of epoch for training  491\n"
          ],
          "name": "stdout"
        },
        {
          "output_type": "display_data",
          "data": {
            "application/vnd.jupyter.widget-view+json": {
              "model_id": "9803c727684542cfa512a1f8fc9e7891",
              "version_minor": 0,
              "version_major": 2
            },
            "text/plain": [
              "HBox(children=(FloatProgress(value=0.0, max=79.0), HTML(value='')))"
            ]
          },
          "metadata": {
            "tags": []
          }
        },
        {
          "output_type": "stream",
          "text": [
            "\n",
            "average accuracy of test data is 0.9158425632911392\n"
          ],
          "name": "stdout"
        }
      ]
    },
    {
      "cell_type": "markdown",
      "metadata": {
        "id": "c8AKNVijJke2"
      },
      "source": [
        "Final test accuracy from trained model is 91.5%."
      ]
    }
  ]
}